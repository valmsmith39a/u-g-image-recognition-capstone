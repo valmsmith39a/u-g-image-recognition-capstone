{
 "cells": [
  {
   "cell_type": "markdown",
   "metadata": {},
   "source": [
    "# Convolutional Neural Networks\n",
    "\n",
    "## Project: Write an Algorithm for a Dog Identification App \n",
    "\n",
    "---\n",
    "\n",
    "In this notebook, some template code has already been provided for you, and you will need to implement additional functionality to successfully complete this project. You will not need to modify the included code beyond what is requested. Sections that begin with **'(IMPLEMENTATION)'** in the header indicate that the following block of code will require additional functionality which you must provide. Instructions will be provided for each section, and the specifics of the implementation are marked in the code block with a 'TODO' statement. Please be sure to read the instructions carefully! \n",
    "\n",
    "> **Note**: Once you have completed all of the code implementations, you need to finalize your work by exporting the Jupyter Notebook as an HTML document. Before exporting the notebook to html, all of the code cells need to have been run so that reviewers can see the final implementation and output. You can then export the notebook by using the menu above and navigating to **File -> Download as -> HTML (.html)**. Include the finished document along with this notebook as your submission.\n",
    "\n",
    "In addition to implementing code, there will be questions that you must answer which relate to the project and your implementation. Each section where you will answer a question is preceded by a **'Question X'** header. Carefully read each question and provide thorough answers in the following text boxes that begin with **'Answer:'**. Your project submission will be evaluated based on your answers to each of the questions and the implementation you provide.\n",
    "\n",
    ">**Note:** Code and Markdown cells can be executed using the **Shift + Enter** keyboard shortcut.  Markdown cells can be edited by double-clicking the cell to enter edit mode.\n",
    "\n",
    "The rubric contains _optional_ \"Stand Out Suggestions\" for enhancing the project beyond the minimum requirements. If you decide to pursue the \"Stand Out Suggestions\", you should include the code in this Jupyter notebook.\n",
    "\n",
    "\n",
    "\n",
    "---\n",
    "### Why We're Here \n",
    "\n",
    "In this notebook, you will make the first steps towards developing an algorithm that could be used as part of a mobile or web app.  At the end of this project, your code will accept any user-supplied image as input.  If a dog is detected in the image, it will provide an estimate of the dog's breed.  If a human is detected, it will provide an estimate of the dog breed that is most resembling.  The image below displays potential sample output of your finished project (... but we expect that each student's algorithm will behave differently!). \n",
    "\n",
    "![Sample Dog Output](images/sample_dog_output.png)\n",
    "\n",
    "In this real-world setting, you will need to piece together a series of models to perform different tasks; for instance, the algorithm that detects humans in an image will be different from the CNN that infers dog breed.  There are many points of possible failure, and no perfect algorithm exists.  Your imperfect solution will nonetheless create a fun user experience!\n",
    "\n",
    "### The Road Ahead\n",
    "\n",
    "We break the notebook into separate steps.  Feel free to use the links below to navigate the notebook.\n",
    "\n",
    "* [Step 0](#step0): Import Datasets\n",
    "* [Step 1](#step1): Detect Humans\n",
    "* [Step 2](#step2): Detect Dogs\n",
    "* [Step 3](#step3): Create a CNN to Classify Dog Breeds (from Scratch)\n",
    "* [Step 4](#step4): Create a CNN to Classify Dog Breeds (using Transfer Learning)\n",
    "* [Step 5](#step5): Write your Algorithm\n",
    "* [Step 6](#step6): Test Your Algorithm\n",
    "\n",
    "---\n",
    "<a id='step0'></a>\n",
    "## Step 0: Import Datasets\n",
    "\n",
    "Make sure that you've downloaded the required human and dog datasets:\n",
    "\n",
    "**Note: if you are using the Udacity workspace, you *DO NOT* need to re-download these - they can be found in the `/data` folder as noted in the cell below.**\n",
    "\n",
    "* Download the [dog dataset](https://s3-us-west-1.amazonaws.com/udacity-aind/dog-project/dogImages.zip).  Unzip the folder and place it in this project's home directory, at the location `/dog_images`. \n",
    "\n",
    "* Download the [human dataset](https://s3-us-west-1.amazonaws.com/udacity-aind/dog-project/lfw.zip).  Unzip the folder and place it in the home directory, at location `/lfw`.  \n",
    "\n",
    "*Note: If you are using a Windows machine, you are encouraged to use [7zip](http://www.7-zip.org/) to extract the folder.*\n",
    "\n",
    "In the code cell below, we save the file paths for both the human (LFW) dataset and dog dataset in the numpy arrays `human_files` and `dog_files`."
   ]
  },
  {
   "cell_type": "code",
   "execution_count": 1,
   "metadata": {},
   "outputs": [
    {
     "name": "stdout",
     "output_type": "stream",
     "text": [
      "There are 13233 total human images.\n",
      "There are 8351 total dog images.\n"
     ]
    }
   ],
   "source": [
    "import numpy as np\n",
    "from glob import glob # finds all pathnames matching patterns using rules from Unix shell\n",
    "\n",
    "# load filenames for human and dog images\n",
    "human_files = np.array(glob(\"/data/lfw/*/*\"))\n",
    "dog_files = np.array(glob(\"/data/dog_images/*/*/*\"))\n",
    "\n",
    "# print number of images in each dataset\n",
    "print('There are %d total human images.' % len(human_files))\n",
    "print('There are %d total dog images.' % len(dog_files))"
   ]
  },
  {
   "cell_type": "code",
   "execution_count": 2,
   "metadata": {},
   "outputs": [
    {
     "data": {
      "text/plain": [
       "array(['/data/lfw/Dan_Ackroyd/Dan_Ackroyd_0001.jpg',\n",
       "       '/data/lfw/Alex_Corretja/Alex_Corretja_0001.jpg',\n",
       "       '/data/lfw/Daniele_Bergamin/Daniele_Bergamin_0001.jpg', ...,\n",
       "       '/data/lfw/Ferenc_Madl/Ferenc_Madl_0002.jpg',\n",
       "       '/data/lfw/Jim_Flaherty/Jim_Flaherty_0001.jpg',\n",
       "       '/data/lfw/Stacey_Yamaguchi/Stacey_Yamaguchi_0001.jpg'], \n",
       "      dtype='<U90')"
      ]
     },
     "execution_count": 2,
     "metadata": {},
     "output_type": "execute_result"
    }
   ],
   "source": [
    "#g\n",
    "# files before numpy array\n",
    "glob(\"/data/lfw/*/*\") \n",
    "'''\n",
    "['/data/lfw/Dan_Ackroyd/Dan_Ackroyd_0001.jpg',\n",
    " '/data/lfw/Alex_Corretja/Alex_Corretja_0001.jpg',\n",
    "'''\n",
    "# list type\n",
    "type(glob(\"/data/lfw/*/*\")) # numpy nd array\n",
    "human_files"
   ]
  },
  {
   "cell_type": "markdown",
   "metadata": {},
   "source": [
    "## Data Exploration"
   ]
  },
  {
   "cell_type": "markdown",
   "metadata": {},
   "source": [
    "### Dog files"
   ]
  },
  {
   "cell_type": "code",
   "execution_count": 15,
   "metadata": {},
   "outputs": [
    {
     "data": {
      "text/plain": [
       "8351"
      ]
     },
     "execution_count": 15,
     "metadata": {},
     "output_type": "execute_result"
    }
   ],
   "source": [
    "len(dog_files)"
   ]
  },
  {
   "cell_type": "markdown",
   "metadata": {},
   "source": [
    "#### Display sample dog image:"
   ]
  },
  {
   "cell_type": "code",
   "execution_count": 16,
   "metadata": {},
   "outputs": [],
   "source": [
    "import cv2             \n",
    "import matplotlib.pyplot as plt                        \n",
    "%matplotlib inline                               \n",
    "\n",
    "def display_image(img_path):\n",
    "    # load color (BGR) image\n",
    "    img = cv2.imread(img_path)\n",
    "\n",
    "    # convert BGR image to RGB for plotting\n",
    "    cv_rgb = cv2.cvtColor(img, cv2.COLOR_BGR2RGB)\n",
    "\n",
    "    # display the image, along with bounding box\n",
    "    plt.imshow(cv_rgb)\n",
    "    plt.show()"
   ]
  },
  {
   "cell_type": "code",
   "execution_count": 17,
   "metadata": {},
   "outputs": [
    {
     "name": "stdout",
     "output_type": "stream",
     "text": [
      "dog image path is:  /data/dog_images/train/103.Mastiff/Mastiff_06826.jpg\n",
      "display sample dog image:\n"
     ]
    },
    {
     "data": {
      "image/png": "[encoded data removed]",
      "text/plain": [
       "<matplotlib.figure.Figure at 0x7f39c065d1d0>"
      ]
     },
     "metadata": {
      "needs_background": "light"
     },
     "output_type": "display_data"
    }
   ],
   "source": [
    "dog_img_path = dog_files[1]\n",
    "print('dog image path is: ', dog_img_path)\n",
    "print('display sample dog image:')\n",
    "display_image(dog_img_path)"
   ]
  },
  {
   "cell_type": "code",
   "execution_count": 18,
   "metadata": {},
   "outputs": [],
   "source": [
    "import torchvision.transforms as transforms\n",
    "from PIL import Image # Python Image Library \n",
    "\n",
    "def preprocess_image(img_path):\n",
    "\n",
    "    # Get the image, <PIL.JpegImagePlugin.JpegImageFile image mode=RGB size=800x648 at 0x7F882995C320>\n",
    "    img_pil = Image.open(img_path)\n",
    "    \n",
    "    # Normalize the image\n",
    "    # input[channel] = (input[channel] - mean[channel]) / std[channel]\n",
    "    # https://pytorch.org/docs/stable/torchvision/transforms.html#torchvision.transforms.Normalize\n",
    "    normalize = transforms.Normalize(\n",
    "       mean=[.5, .5, .5],\n",
    "       std=[.5, .5, .5]\n",
    "    )\n",
    "\n",
    "    # Image transforms\n",
    "    # https://pytorch.org/docs/stable/torchvision/transforms.html\n",
    "    preprocess = transforms.Compose([\n",
    "        transforms.RandomResizedCrop(224),\n",
    "        transforms.ToTensor(),\n",
    "        normalize\n",
    "    ])\n",
    "    \n",
    "    # Preprocess image\n",
    "    img_tensor = preprocess(img_pil)\n",
    "        \n",
    "    img_tensor.unsqueeze_(0)\n",
    "        \n",
    "    return img_tensor"
   ]
  },
  {
   "cell_type": "code",
   "execution_count": 19,
   "metadata": {},
   "outputs": [
    {
     "data": {
      "text/plain": [
       "tensor([[[[-0.7255, -0.7490, -0.7725,  ..., -0.3098, -0.3176, -0.4824],\n",
       "          [-0.7176, -0.7647, -0.7098,  ..., -0.3098, -0.3176, -0.4745],\n",
       "          [-0.5922, -0.6784, -0.5529,  ..., -0.3176, -0.3098, -0.4667],\n",
       "          ...,\n",
       "          [-0.4118, -0.3569, -0.3333,  ..., -0.4980, -0.4510, -0.4431],\n",
       "          [-0.4980, -0.4275, -0.3725,  ..., -0.4431, -0.3647, -0.3255],\n",
       "          [-0.4745, -0.4824, -0.4588,  ..., -0.3961, -0.4118, -0.3804]],\n",
       "\n",
       "         [[-0.7333, -0.7647, -0.7882,  ..., -0.2392, -0.2627, -0.4275],\n",
       "          [-0.7255, -0.7804, -0.7255,  ..., -0.2392, -0.2549, -0.4196],\n",
       "          [-0.6078, -0.6941, -0.5686,  ..., -0.2471, -0.2549, -0.4118],\n",
       "          ...,\n",
       "          [-0.3569, -0.3020, -0.2627,  ..., -0.4039, -0.3490, -0.3412],\n",
       "          [-0.4275, -0.3647, -0.3020,  ..., -0.3490, -0.2784, -0.2314],\n",
       "          [-0.4196, -0.4118, -0.3961,  ..., -0.3098, -0.3255, -0.3098]],\n",
       "\n",
       "         [[-0.6941, -0.7255, -0.7490,  ..., -0.1843, -0.2000, -0.3647],\n",
       "          [-0.6863, -0.7412, -0.6863,  ..., -0.1843, -0.1922, -0.3569],\n",
       "          [-0.5686, -0.6549, -0.5294,  ..., -0.1922, -0.1922, -0.3490],\n",
       "          ...,\n",
       "          [-0.2235, -0.1686, -0.1294,  ..., -0.2549, -0.2157, -0.2000],\n",
       "          [-0.2941, -0.2235, -0.1686,  ..., -0.2078, -0.1373, -0.0980],\n",
       "          [-0.2784, -0.2784, -0.2549,  ..., -0.1686, -0.1843, -0.1608]]]])"
      ]
     },
     "execution_count": 19,
     "metadata": {},
     "output_type": "execute_result"
    }
   ],
   "source": [
    "sample_dog_img = preprocess_image(dog_img_path)\n",
    "sample_dog_img"
   ]
  },
  {
   "cell_type": "code",
   "execution_count": 20,
   "metadata": {},
   "outputs": [
    {
     "data": {
      "text/plain": [
       "torch.Size([1, 3, 224, 224])"
      ]
     },
     "execution_count": 20,
     "metadata": {},
     "output_type": "execute_result"
    }
   ],
   "source": [
    "sample_dog_img.size()"
   ]
  },
  {
   "cell_type": "code",
   "execution_count": 21,
   "metadata": {},
   "outputs": [
    {
     "name": "stdout",
     "output_type": "stream",
     "text": [
      "1\n",
      "---\n",
      "3\n",
      "torch.Size([224, 224])\n",
      "torch.Size([224, 224])\n",
      "torch.Size([224, 224])\n"
     ]
    }
   ],
   "source": [
    "# 1 x 3 x 224 x 224\n",
    "# One image tensor\n",
    "print(len(sample_dog_img))\n",
    "print('---')\n",
    "\n",
    "# First tensor contains 3 tensors representing RGB values of 224 x 224 image'\n",
    "print(len(sample_dog_img[0]))\n",
    "print(sample_dog_img[0][0].size())\n",
    "print(sample_dog_img[0][1].size())\n",
    "print(sample_dog_img[0][2].size())\n"
   ]
  },
  {
   "cell_type": "markdown",
   "metadata": {},
   "source": [
    "#### Human files"
   ]
  },
  {
   "cell_type": "code",
   "execution_count": 22,
   "metadata": {},
   "outputs": [
    {
     "data": {
      "text/plain": [
       "13233"
      ]
     },
     "execution_count": 22,
     "metadata": {},
     "output_type": "execute_result"
    }
   ],
   "source": [
    "len(human_files)"
   ]
  },
  {
   "cell_type": "markdown",
   "metadata": {},
   "source": [
    "Display sample image:"
   ]
  },
  {
   "cell_type": "code",
   "execution_count": 23,
   "metadata": {},
   "outputs": [
    {
     "name": "stdout",
     "output_type": "stream",
     "text": [
      "human image path is:  /data/lfw/Alex_Corretja/Alex_Corretja_0001.jpg\n",
      "display sample human image:\n"
     ]
    },
    {
     "data": {
      "image/png": "[encoded data removed]",
      "text/plain": [
       "<matplotlib.figure.Figure at 0x7f39c06afa58>"
      ]
     },
     "metadata": {
      "needs_background": "light"
     },
     "output_type": "display_data"
    }
   ],
   "source": [
    "human_img_path = human_files[1]\n",
    "print('human image path is: ', human_img_path)\n",
    "print('display sample human image:')\n",
    "display_image(human_img_path)"
   ]
  },
  {
   "cell_type": "code",
   "execution_count": 24,
   "metadata": {},
   "outputs": [
    {
     "data": {
      "text/plain": [
       "tensor([[[[-0.3490, -0.3647, -0.3882,  ..., -0.1216, -0.1216, -0.1137],\n",
       "          [-0.3412, -0.3412, -0.3490,  ..., -0.1137, -0.1216, -0.1294],\n",
       "          [-0.4039, -0.3961, -0.3725,  ..., -0.1059, -0.1137, -0.1137],\n",
       "          ...,\n",
       "          [-0.3569, -0.3412, -0.3647,  ..., -0.8824, -0.8196, -0.7412],\n",
       "          [-0.4275, -0.3882, -0.4118,  ..., -0.9059, -0.8902, -0.8745],\n",
       "          [-0.4118, -0.3647, -0.3725,  ..., -0.7098, -0.7255, -0.7490]],\n",
       "\n",
       "         [[-0.2863, -0.3020, -0.3255,  ...,  0.0275,  0.0275,  0.0353],\n",
       "          [-0.2627, -0.2706, -0.2706,  ..., -0.0039,  0.0039,  0.0039],\n",
       "          [-0.3255, -0.3176, -0.2941,  ..., -0.0039,  0.0118,  0.0118],\n",
       "          ...,\n",
       "          [-0.2549, -0.2471, -0.2627,  ..., -0.8510, -0.7882, -0.7098],\n",
       "          [-0.3333, -0.2941, -0.3255,  ..., -0.8745, -0.8588, -0.8431],\n",
       "          [-0.3412, -0.2941, -0.3020,  ..., -0.6863, -0.7020, -0.7176]],\n",
       "\n",
       "         [[-0.2000, -0.2157, -0.2392,  ...,  0.1451,  0.1451,  0.1529],\n",
       "          [-0.1922, -0.1922, -0.2000,  ...,  0.1137,  0.1294,  0.1294],\n",
       "          [-0.2549, -0.2471, -0.2235,  ...,  0.1216,  0.1294,  0.1373],\n",
       "          ...,\n",
       "          [-0.1137, -0.1137, -0.1294,  ..., -0.7647, -0.7020, -0.6235],\n",
       "          [-0.2078, -0.1686, -0.2000,  ..., -0.7882, -0.7725, -0.7569],\n",
       "          [-0.2235, -0.1765, -0.1843,  ..., -0.6157, -0.6314, -0.6471]]]])"
      ]
     },
     "execution_count": 24,
     "metadata": {},
     "output_type": "execute_result"
    }
   ],
   "source": [
    "sample_human_img = preprocess_image(dog_img_path)\n",
    "sample_human_img"
   ]
  },
  {
   "cell_type": "code",
   "execution_count": 25,
   "metadata": {},
   "outputs": [
    {
     "data": {
      "text/plain": [
       "torch.Size([1, 3, 224, 224])"
      ]
     },
     "execution_count": 25,
     "metadata": {},
     "output_type": "execute_result"
    }
   ],
   "source": [
    "sample_human_img.size()"
   ]
  },
  {
   "cell_type": "code",
   "execution_count": 26,
   "metadata": {},
   "outputs": [
    {
     "name": "stdout",
     "output_type": "stream",
     "text": [
      "1\n",
      "---\n",
      "3\n",
      "torch.Size([224, 224])\n",
      "torch.Size([224, 224])\n",
      "torch.Size([224, 224])\n"
     ]
    }
   ],
   "source": [
    "# 1 x 3 x 224 x 224\n",
    "# One image tensor\n",
    "print(len(sample_dog_img))\n",
    "print('---')\n",
    "\n",
    "# First tensor contains 3 tensors representing RGB values of 224 x 224 image'\n",
    "print(len(sample_dog_img[0]))\n",
    "print(sample_dog_img[0][0].size())\n",
    "print(sample_dog_img[0][1].size())\n",
    "print(sample_dog_img[0][2].size())\n"
   ]
  },
  {
   "cell_type": "code",
   "execution_count": null,
   "metadata": {},
   "outputs": [],
   "source": []
  },
  {
   "cell_type": "markdown",
   "metadata": {},
   "source": [
    "<a id='step1'></a>\n",
    "## Step 1: Detect Humans\n",
    "\n",
    "In this section, we use OpenCV's implementation of [Haar feature-based cascade classifiers](http://docs.opencv.org/trunk/d7/d8b/tutorial_py_face_detection.html) to detect human faces in images.  \n",
    "\n",
    "OpenCV provides many pre-trained face detectors, stored as XML files on [github](https://github.com/opencv/opencv/tree/master/data/haarcascades).  We have downloaded one of these detectors and stored it in the `haarcascades` directory.  In the next code cell, we demonstrate how to use this detector to find human faces in a sample image."
   ]
  },
  {
   "cell_type": "markdown",
   "metadata": {},
   "source": [
    "#g\n",
    "* OpenCV - real-time computer vision library\n",
    "\n",
    "* Haar cascade classifier/Haar cascade object detection https://docs.opencv.org/trunk/db/d28/tutorial_cascade_classifier.html\n",
    "'''"
   ]
  },
  {
   "cell_type": "code",
   "execution_count": null,
   "metadata": {},
   "outputs": [],
   "source": []
  },
  {
   "cell_type": "code",
   "execution_count": 15,
   "metadata": {},
   "outputs": [
    {
     "name": "stdout",
     "output_type": "stream",
     "text": [
      "Number of faces detected: 1\n"
     ]
    },
    {
     "data": {
      "image/png": "[encoded data removed]",
      "text/plain": [
       "<matplotlib.figure.Figure at 0x7f871c569ac8>"
      ]
     },
     "metadata": {
      "needs_background": "light"
     },
     "output_type": "display_data"
    }
   ],
   "source": [
    "import cv2 # OpenCV              \n",
    "import matplotlib.pyplot as plt                        \n",
    "%matplotlib inline                               \n",
    "\n",
    "# extract pre-trained face detector\n",
    "face_cascade = cv2.CascadeClassifier('haarcascades/haarcascade_frontalface_alt.xml')\n",
    "\n",
    "# load color (BGR) image\n",
    "img = cv2.imread(human_files[0])\n",
    "# convert BGR image to grayscale\n",
    "gray = cv2.cvtColor(img, cv2.COLOR_BGR2GRAY)\n",
    "\n",
    "# find faces in image\n",
    "faces = face_cascade.detectMultiScale(gray)\n",
    "\n",
    "# print number of faces detected in the image\n",
    "print('Number of faces detected:', len(faces))\n",
    "\n",
    "# get bounding box for each detected face\n",
    "for (x,y,w,h) in faces:\n",
    "    # add bounding box to color image\n",
    "    cv2.rectangle(img,(x,y),(x+w,y+h),(255,0,0),2)\n",
    "    \n",
    "# convert BGR image to RGB for plotting\n",
    "cv_rgb = cv2.cvtColor(img, cv2.COLOR_BGR2RGB)\n",
    "\n",
    "# display the image, along with bounding box\n",
    "plt.imshow(cv_rgb)\n",
    "plt.show()"
   ]
  },
  {
   "cell_type": "code",
   "execution_count": 16,
   "metadata": {},
   "outputs": [
    {
     "data": {
      "text/plain": [
       "array([ 70,  67, 113, 113], dtype=int32)"
      ]
     },
     "execution_count": 16,
     "metadata": {},
     "output_type": "execute_result"
    }
   ],
   "source": [
    "#g\n",
    "faces # array([[ 70,  67, 113, 113]], dtype=int32), numpy.ndarray\n",
    "\n",
    "faces[0] # bounding box of the face detected, array([ 70,  67, 113, 113], dtype=int32), [x, y, w, h]\n",
    "\n",
    "# If replace human_files with dog_files, face detector will find 0 faces\n"
   ]
  },
  {
   "cell_type": "markdown",
   "metadata": {},
   "source": [
    "Before using any of the face detectors, it is standard procedure to convert the images to grayscale.  The `detectMultiScale` function executes the classifier stored in `face_cascade` and takes the grayscale image as a parameter.  \n",
    "\n",
    "In the above code, `faces` is a numpy array of detected faces, where each row corresponds to a detected face.  Each detected face is a 1D array with four entries that specifies the bounding box of the detected face.  The first two entries in the array (extracted in the above code as `x` and `y`) specify the horizontal and vertical positions of the top left corner of the bounding box.  The last two entries in the array (extracted here as `w` and `h`) specify the width and height of the box.\n",
    "\n",
    "### Write a Human Face Detector\n",
    "\n",
    "We can use this procedure to write a function that returns `True` if a human face is detected in an image and `False` otherwise.  This function, aptly named `face_detector`, takes a string-valued file path to an image as input and appears in the code block below."
   ]
  },
  {
   "cell_type": "markdown",
   "metadata": {},
   "source": [
    "#g\n",
    "* Convert images to grayscale before using face detectors\n",
    "* Bounding box is [x, y, w, h] [horizontal_position, vertical_position, width, height]\n"
   ]
  },
  {
   "cell_type": "code",
   "execution_count": 17,
   "metadata": {},
   "outputs": [],
   "source": [
    "# returns \"True\" if face is detected in image stored at img_path\n",
    "def face_detector(img_path):\n",
    "    img = cv2.imread(img_path)\n",
    "    gray = cv2.cvtColor(img, cv2.COLOR_BGR2GRAY)\n",
    "    faces = face_cascade.detectMultiScale(gray)\n",
    "    return len(faces) > 0"
   ]
  },
  {
   "cell_type": "markdown",
   "metadata": {},
   "source": [
    "### (IMPLEMENTATION) Assess the Human Face Detector\n",
    "\n",
    "__Question 1:__ Use the code cell below to test the performance of the `face_detector` function.  \n",
    "- What percentage of the first 100 images in `human_files` have a detected human face?  \n",
    "- What percentage of the first 100 images in `dog_files` have a detected human face? \n",
    "\n",
    "Ideally, we would like 100% of human images with a detected face and 0% of dog images with a detected face.  You will see that our algorithm falls short of this goal, but still gives acceptable performance.  We extract the file paths for the first 100 images from each of the datasets and store them in the numpy arrays `human_files_short` and `dog_files_short`."
   ]
  },
  {
   "cell_type": "markdown",
   "metadata": {},
   "source": [
    "__Answer:__ \n",
    "(You can print out your results and/or write your percentages in this cell)\n",
    "\n",
    "Percentage of human faces detected, using human images: 98.00%\n",
    "Percentage of human faces detected, using dog images: 17.00%"
   ]
  },
  {
   "cell_type": "code",
   "execution_count": 18,
   "metadata": {},
   "outputs": [
    {
     "name": "stdout",
     "output_type": "stream",
     "text": [
      "Percentage of human faces detected, using human images: 98.00%\n",
      "Percentage of human faces detected, using dog images: 17.00%\n"
     ]
    }
   ],
   "source": [
    "from tqdm import tqdm\n",
    "\n",
    "human_files_short = human_files[:100]\n",
    "dog_files_short = dog_files[:100]\n",
    "\n",
    "#-#-# Do NOT modify the code above this line. #-#-#\n",
    "\n",
    "## TODO: DONE: Test the performance of the face_detector algorithm \n",
    "## on the images in human_files_short and dog_files_short.\n",
    "\n",
    "def detect_objects(img_files):    \n",
    "    # return img_path for each img_path in img_files_short if face_detector returns True\n",
    "    num_obj_detected = len([img_path for img_path in img_files if face_detector(img_path)])\n",
    "    total = img_files.size\n",
    "    accuracy = num_obj_detected / total\n",
    "    return accuracy\n",
    "\n",
    "# detect human faces using human images, 0.98\n",
    "print('Percentage of human faces detected, using human images: {:.2%}'.format(detect_objects(human_files_short)))\n",
    "\n",
    "# detect human faces using dog images, 0.17\n",
    "print('Percentage of human faces detected, using dog images: {:.2%}'.format(detect_objects(dog_files_short)))\n"
   ]
  },
  {
   "cell_type": "markdown",
   "metadata": {},
   "source": [
    "We suggest the face detector from OpenCV as a potential way to detect human images in your algorithm, but you are free to explore other approaches, especially approaches that make use of deep learning :).  Please use the code cell below to design and test your own face detection algorithm.  If you decide to pursue this _optional_ task, report performance on `human_files_short` and `dog_files_short`."
   ]
  },
  {
   "cell_type": "code",
   "execution_count": 19,
   "metadata": {},
   "outputs": [],
   "source": [
    "### (Optional) \n",
    "### TODO: Test performance of anotherface detection algorithm.\n",
    "### Feel free to use as many code cells as needed."
   ]
  },
  {
   "cell_type": "markdown",
   "metadata": {},
   "source": [
    "---\n",
    "<a id='step2'></a>\n",
    "## Step 2: Detect Dogs\n",
    "\n",
    "In this section, we use a [pre-trained model](http://pytorch.org/docs/master/torchvision/models.html) to detect dogs in images.  \n",
    "\n",
    "### Obtain Pre-trained VGG-16 Model\n",
    "\n",
    "The code cell below downloads the VGG-16 model, along with weights that have been trained on [ImageNet](http://www.image-net.org/), a very large, very popular dataset used for image classification and other vision tasks.  ImageNet contains over 10 million URLs, each linking to an image containing an object from one of [1000 categories](https://gist.github.com/yrevar/942d3a0ac09ec9e5eb3a).  "
   ]
  },
  {
   "cell_type": "code",
   "execution_count": 27,
   "metadata": {},
   "outputs": [
    {
     "name": "stderr",
     "output_type": "stream",
     "text": [
      "Downloading: \"https://download.pytorch.org/models/vgg16-397923af.pth\" to /root/.torch/models/vgg16-397923af.pth\n",
      "100%|██████████| 553433881/553433881 [02:59<00:00, 3090077.64it/s]\n"
     ]
    }
   ],
   "source": [
    "import torch\n",
    "import torchvision.models as models\n",
    "\n",
    "# define VGG16 model\n",
    "VGG16 = models.vgg16(pretrained=True)\n",
    "\n",
    "# check if CUDA is available\n",
    "use_cuda = torch.cuda.is_available()\n",
    "\n",
    "# move model to GPU if CUDA is available\n",
    "if use_cuda:\n",
    "    VGG16 = VGG16.cuda()"
   ]
  },
  {
   "cell_type": "markdown",
   "metadata": {},
   "source": [
    "Given an image, this pre-trained VGG-16 model returns a prediction (derived from the 1000 possible categories in ImageNet) for the object that is contained in the image."
   ]
  },
  {
   "cell_type": "markdown",
   "metadata": {},
   "source": [
    "### (IMPLEMENTATION) Making Predictions with a Pre-trained Model\n",
    "\n",
    "In the next code cell, you will write a function that accepts a path to an image (such as `'dogImages/train/001.Affenpinscher/Affenpinscher_00001.jpg'`) as input and returns the index corresponding to the ImageNet class that is predicted by the pre-trained VGG-16 model.  The output should always be an integer between 0 and 999, inclusive.\n",
    "\n",
    "Before writing the function, make sure that you take the time to learn  how to appropriately pre-process tensors for pre-trained models in the [PyTorch documentation](http://pytorch.org/docs/stable/torchvision/models.html)."
   ]
  },
  {
   "cell_type": "code",
   "execution_count": 21,
   "metadata": {},
   "outputs": [],
   "source": [
    "from PIL import Image # Python Image Library \n",
    "import torchvision.transforms as transforms\n",
    "\n",
    "def VGG16_predict(img_path):\n",
    "    '''\n",
    "    Use pre-trained VGG-16 model to obtain index corresponding to \n",
    "    predicted ImageNet class for image at specified path\n",
    "    \n",
    "    Args:\n",
    "        img_path: path to an image\n",
    "        \n",
    "    Returns:\n",
    "        Index corresponding to VGG-16 model's prediction\n",
    "    '''\n",
    "    \n",
    "    ## TODO: DONE: Complete the function.\n",
    "    ## Load and pre-process an image from the given img_path\n",
    "    ## Return the *index* of the predicted class for that image\n",
    "    \n",
    "    # Get the image, <PIL.JpegImagePlugin.JpegImageFile image mode=RGB size=800x648 at 0x7F882995C320>\n",
    "    img_pil = Image.open(img_path)\n",
    "    \n",
    "    # Normalize the image\n",
    "    # input[channel] = (input[channel] - mean[channel]) / std[channel]\n",
    "    # https://pytorch.org/docs/stable/torchvision/transforms.html#torchvision.transforms.Normalize\n",
    "    normalize = transforms.Normalize(\n",
    "       mean=[0.485, 0.456, 0.406],\n",
    "       std=[0.229, 0.224, 0.225]\n",
    "    )\n",
    "\n",
    "    # Image transforms\n",
    "    # https://pytorch.org/docs/stable/torchvision/transforms.html\n",
    "    preprocess = transforms.Compose([\n",
    "       transforms.Resize(256),\n",
    "       transforms.CenterCrop(224),\n",
    "       transforms.ToTensor(),\n",
    "       normalize\n",
    "    ])\n",
    "    \n",
    "    # Preprocess image\n",
    "    img_tensor = preprocess(img_pil)\n",
    "    \n",
    "    img_tensor.unsqueeze_(0)\n",
    "    \n",
    "    # Predict\n",
    "    # Results: tensor([[ 1.0855e+00, -3.4244e+00, -1.5707e+00, -1.7552e+00, -3.2309e+00, -4.5120e-01, -2.2209e+00...]])\n",
    "    fc_out = VGG16(img_tensor)\n",
    "    \n",
    "    # Get the index of the highest probability result\n",
    "    pred_idx = fc_out.data.numpy().argmax()\n",
    "    \n",
    "    return pred_idx\n"
   ]
  },
  {
   "cell_type": "code",
   "execution_count": 22,
   "metadata": {},
   "outputs": [
    {
     "data": {
      "text/plain": [
       "243"
      ]
     },
     "execution_count": 22,
     "metadata": {},
     "output_type": "execute_result"
    }
   ],
   "source": [
    "VGG16_predict(dog_files_short[0])"
   ]
  },
  {
   "cell_type": "markdown",
   "metadata": {},
   "source": [
    "### (IMPLEMENTATION) Write a Dog Detector\n",
    "\n",
    "While looking at the [dictionary](https://gist.github.com/yrevar/942d3a0ac09ec9e5eb3a), you will notice that the categories corresponding to dogs appear in an uninterrupted sequence and correspond to dictionary keys 151-268, inclusive, to include all categories from `'Chihuahua'` to `'Mexican hairless'`.  Thus, in order to check to see if an image is predicted to contain a dog by the pre-trained VGG-16 model, we need only check if the pre-trained model predicts an index between 151 and 268 (inclusive).\n",
    "\n",
    "Use these ideas to complete the `dog_detector` function below, which returns `True` if a dog is detected in an image (and `False` if not)."
   ]
  },
  {
   "cell_type": "code",
   "execution_count": 23,
   "metadata": {},
   "outputs": [],
   "source": [
    "### returns \"True\" if a dog is detected in the image stored at img_path\n",
    "def dog_detector(img_path):\n",
    "    ## TODO: DONE: Complete the function.\n",
    "    pred_idx = VGG16_predict(img_path)\n",
    "    isDog = 151 <= pred_idx <= 268\n",
    "    return isDog\n"
   ]
  },
  {
   "cell_type": "markdown",
   "metadata": {},
   "source": [
    "### (IMPLEMENTATION) Assess the Dog Detector\n",
    "\n",
    "__Question 2:__ Use the code cell below to test the performance of your `dog_detector` function.  \n",
    "- What percentage of the images in `human_files_short` have a detected dog?  \n",
    "- What percentage of the images in `dog_files_short` have a detected dog?"
   ]
  },
  {
   "cell_type": "markdown",
   "metadata": {},
   "source": [
    "__Answer:__ \n",
    "\n",
    "Percentage of dogs detected, using human images: 1.00%\n",
    "Percentage of dogs detected, using dog images: 100.00%"
   ]
  },
  {
   "cell_type": "code",
   "execution_count": 24,
   "metadata": {},
   "outputs": [
    {
     "name": "stdout",
     "output_type": "stream",
     "text": [
      "Percentage of dogs detected, using dog images: 100.00%\n",
      "Percentage of dogs detected, using human images: 0.00%\n"
     ]
    }
   ],
   "source": [
    "### TODO: DONE: Test the performance of the dog_detector function\n",
    "### on the images in human_files_short and dog_files_short.\n",
    "\n",
    "def detect_objects(img_files):    \n",
    "    # return img_path for each img_path in img_files_short if face_detector returns True\n",
    "    num_obj_detected = len([img_path for img_path in img_files if dog_detector(img_path)])\n",
    "    total = img_files.size\n",
    "    accuracy = num_obj_detected / total\n",
    "    return accuracy\n",
    "\n",
    "\n",
    "# detect dogs using dog images, 1.0\n",
    "print('Percentage of dogs detected, using dog images: {:.2%}'.format(detect_objects(dog_files_short)))\n",
    "\n",
    "# detect dogs using human images, 0.0\n",
    "print('Percentage of dogs detected, using human images: {:.2%}'.format(detect_objects(human_files_short)))\n"
   ]
  },
  {
   "cell_type": "markdown",
   "metadata": {},
   "source": [
    "We suggest VGG-16 as a potential network to detect dog images in your algorithm, but you are free to explore other pre-trained networks (such as [Inception-v3](http://pytorch.org/docs/master/torchvision/models.html#inception-v3), [ResNet-50](http://pytorch.org/docs/master/torchvision/models.html#id3), etc).  Please use the code cell below to test other pre-trained PyTorch models.  If you decide to pursue this _optional_ task, report performance on `human_files_short` and `dog_files_short`."
   ]
  },
  {
   "cell_type": "code",
   "execution_count": 25,
   "metadata": {},
   "outputs": [],
   "source": [
    "### (Optional) \n",
    "### TODO: Report the performance of another pre-trained network.\n",
    "### Feel free to use as many code cells as needed."
   ]
  },
  {
   "cell_type": "markdown",
   "metadata": {},
   "source": [
    "---\n",
    "<a id='step3'></a>\n",
    "## Step 3: Create a CNN to Classify Dog Breeds (from Scratch)\n",
    "\n",
    "Now that we have functions for detecting humans and dogs in images, we need a way to predict breed from images.  In this step, you will create a CNN that classifies dog breeds.  You must create your CNN _from scratch_ (so, you can't use transfer learning _yet_!), and you must attain a test accuracy of at least 10%.  In Step 4 of this notebook, you will have the opportunity to use transfer learning to create a CNN that attains greatly improved accuracy.\n",
    "\n",
    "We mention that the task of assigning breed to dogs from images is considered exceptionally challenging.  To see why, consider that *even a human* would have trouble distinguishing between a Brittany and a Welsh Springer Spaniel.  \n",
    "\n",
    "Brittany | Welsh Springer Spaniel\n",
    "- | - \n",
    "<img src=\"images/Brittany_02625.jpg\" width=\"100\"> | <img src=\"images/Welsh_springer_spaniel_08203.jpg\" width=\"200\">\n",
    "\n",
    "It is not difficult to find other dog breed pairs with minimal inter-class variation (for instance, Curly-Coated Retrievers and American Water Spaniels).  \n",
    "\n",
    "Curly-Coated Retriever | American Water Spaniel\n",
    "- | -\n",
    "<img src=\"images/Curly-coated_retriever_03896.jpg\" width=\"200\"> | <img src=\"images/American_water_spaniel_00648.jpg\" width=\"200\">\n",
    "\n",
    "\n",
    "Likewise, recall that labradors come in yellow, chocolate, and black.  Your vision-based algorithm will have to conquer this high intra-class variation to determine how to classify all of these different shades as the same breed.  \n",
    "\n",
    "Yellow Labrador | Chocolate Labrador | Black Labrador\n",
    "- | -\n",
    "<img src=\"images/Labrador_retriever_06457.jpg\" width=\"150\"> | <img src=\"images/Labrador_retriever_06455.jpg\" width=\"240\"> | <img src=\"images/Labrador_retriever_06449.jpg\" width=\"220\">\n",
    "\n",
    "We also mention that random chance presents an exceptionally low bar: setting aside the fact that the classes are slightly imabalanced, a random guess will provide a correct answer roughly 1 in 133 times, which corresponds to an accuracy of less than 1%.  \n",
    "\n",
    "Remember that the practice is far ahead of the theory in deep learning.  Experiment with many different architectures, and trust your intuition.  And, of course, have fun!\n",
    "\n",
    "### (IMPLEMENTATION) Specify Data Loaders for the Dog Dataset\n",
    "\n",
    "Use the code cell below to write three separate [data loaders](http://pytorch.org/docs/stable/data.html#torch.utils.data.DataLoader) for the training, validation, and test datasets of dog images (located at `dog_images/train`, `dog_images/valid`, and `dog_images/test`, respectively).  You may find [this documentation on custom datasets](http://pytorch.org/docs/stable/torchvision/datasets.html) to be a useful resource.  If you are interested in augmenting your training and/or validation data, check out the wide variety of [transforms](http://pytorch.org/docs/stable/torchvision/transforms.html?highlight=transform)!"
   ]
  },
  {
   "cell_type": "code",
   "execution_count": 11,
   "metadata": {},
   "outputs": [],
   "source": [
    "import os\n",
    "import torch\n",
    "from PIL import ImageFile\n",
    "from torchvision import datasets, transforms\n",
    "ImageFile.LOAD_TRUNCATED_IMAGES = True\n",
    "\n",
    "### TODO: DONE: Write data loaders for training, validation, and test sets\n",
    "## Specify appropriate transforms, and batch_sizes\n",
    "\n",
    "def load_data(data_dir, options=None):\n",
    "    '''\n",
    "    Create training, validation and test data loaders\n",
    "    \n",
    "    Args:\n",
    "        data_dir: path to data directory\n",
    "    \n",
    "    Returns:\n",
    "        A dictionary of data loaders\n",
    "    '''\n",
    "    \n",
    "    batch_size = options['batch_size'] or 10\n",
    "    shuffle = options['shuffle'] or False\n",
    "    img_dim = options['img_dim'] or 224\n",
    "    \n",
    "    train_dir = data_dir + '/train'\n",
    "    valid_dir = data_dir + '/valid'\n",
    "    test_dir = data_dir + '/test'\n",
    "    \n",
    "    data_transforms = {\n",
    "        'train': transforms.Compose([\n",
    "            transforms.RandomResizedCrop(img_dim),\n",
    "            transforms.ToTensor(),\n",
    "            transforms.Normalize((0.5, 0.5, 0.5), (0.5, 0.5, 0.5))\n",
    "        ]),\n",
    "        'valid': transforms.Compose([\n",
    "            transforms.RandomResizedCrop(img_dim),\n",
    "            transforms.ToTensor(),\n",
    "            transforms.Normalize((0.5, 0.5, 0.5), (0.5, 0.5, 0.5))\n",
    "        ]),\n",
    "        'test': transforms.Compose([\n",
    "            transforms.RandomResizedCrop(img_dim),\n",
    "            transforms.ToTensor(),\n",
    "            transforms.Normalize((0.5, 0.5, 0.5), (0.5, 0.5, 0.5))\n",
    "        ])\n",
    "    }\n",
    "    \n",
    "    dirs = {\n",
    "        'train': train_dir,\n",
    "        'valid': valid_dir,\n",
    "        'test': test_dir\n",
    "    }\n",
    "    \n",
    "    image_datasets = {\n",
    "        x: datasets.ImageFolder(dirs[x], transform=data_transforms[x]) for x in ['train', 'valid', 'test']\n",
    "    }\n",
    "        \n",
    "    data_loaders = {\n",
    "        x: torch.utils.data.DataLoader(image_datasets[x], batch_size, shuffle) for x in ['train', 'valid', 'test'] \n",
    "    }\n",
    "\n",
    "    return data_loaders\n"
   ]
  },
  {
   "cell_type": "code",
   "execution_count": 12,
   "metadata": {},
   "outputs": [
    {
     "data": {
      "text/plain": [
       "{'train': <torch.utils.data.dataloader.DataLoader at 0x7f68b81e5c50>,\n",
       " 'valid': <torch.utils.data.dataloader.DataLoader at 0x7f68b81e5cc0>,\n",
       " 'test': <torch.utils.data.dataloader.DataLoader at 0x7f68b81e5da0>}"
      ]
     },
     "execution_count": 12,
     "metadata": {},
     "output_type": "execute_result"
    }
   ],
   "source": [
    "data_dir = '/data/dog_images'\n",
    "\n",
    "options = {\n",
    "    'batch_size': 64,\n",
    "    'shuffle': True,\n",
    "    'img_dim': 32\n",
    "}\n",
    "\n",
    "loaders_scratch = load_data(data_dir, options)\n",
    "loaders_scratch"
   ]
  },
  {
   "cell_type": "code",
   "execution_count": 13,
   "metadata": {},
   "outputs": [
    {
     "data": {
      "image/png": "[encoded data removed]",
      "text/plain": [
       "<matplotlib.figure.Figure at 0x7f6910090c18>"
      ]
     },
     "metadata": {
      "needs_background": "light"
     },
     "output_type": "display_data"
    }
   ],
   "source": [
    "import cv2 # OpenCV              \n",
    "import matplotlib.pyplot as plt                        \n",
    "%matplotlib inline                               \n",
    "\n",
    "# load color (BGR) image\n",
    "img = cv2.imread(dog_files[20])\n",
    "\n",
    "# convert BGR image to RGB for plotting\n",
    "cv_rgb = cv2.cvtColor(img, cv2.COLOR_BGR2RGB)\n",
    "\n",
    "# display the image, along with bounding box\n",
    "plt.imshow(cv_rgb)\n",
    "plt.show()"
   ]
  },
  {
   "cell_type": "markdown",
   "metadata": {},
   "source": [
    "**Question 3:** Describe your chosen procedure for preprocessing the data. \n",
    "- How does your code resize the images (by cropping, stretching, etc)?  What size did you pick for the input tensor, and why?\n",
    "- Did you decide to augment the dataset?  If so, how (through translations, flips, rotations, etc)?  If not, why not?\n"
   ]
  },
  {
   "cell_type": "markdown",
   "metadata": {},
   "source": [
    "**Answer**:\n",
    "\n",
    "Resized training images using torchvision transforms 'Resize'. Used 32 x 32 for experimentation. Did not augment dataset at this time, but may do so in the future to improve performance.\n",
    "https://pytorch.org/docs/stable/torchvision/transforms.html#torchvision.transforms.Resize\n",
    "\n"
   ]
  },
  {
   "cell_type": "markdown",
   "metadata": {},
   "source": [
    "### (IMPLEMENTATION) Model Architecture\n",
    "\n",
    "Create a CNN to classify dog breed.  Use the template in the code cell below."
   ]
  },
  {
   "cell_type": "code",
   "execution_count": 14,
   "metadata": {},
   "outputs": [],
   "source": [
    "# check if CUDA is available\n",
    "use_cuda = torch.cuda.is_available()\n"
   ]
  },
  {
   "cell_type": "code",
   "execution_count": 15,
   "metadata": {},
   "outputs": [],
   "source": [
    "import torch.nn as nn\n",
    "import torch.nn.functional as F\n",
    "\n",
    "# define the CNN architecture\n",
    "class Net(nn.Module):\n",
    "    ### TODO: DONE: choose an architecture, and complete the class\n",
    "    def __init__(self):\n",
    "        super(Net, self).__init__()\n",
    "        ## Define layers of a CNN\n",
    "        '''\n",
    "        convolution: Sliding window function applied to input data. In this project we apply ReLU function.\n",
    "        \n",
    "        kernel (filter): A subregion of input matrix used to perform convolutions\n",
    "        \n",
    "        stride: number of pixels to shift the kernal(filter) over the input matrix\n",
    "        \n",
    "        in_channels: \"depth\" of input layer, for images with rgb values, in_channels = 3. Grayscale in_channels = 1\n",
    "        \n",
    "        out_channels: \"depth\" of convolutional layer, resulting number of channels after convolutions performed on previous layer\n",
    "                      (ex. input layer or previous convolutional layer)\n",
    "        \n",
    "        nn.Conv2d: Applies a 2D convolution over an input signal composed of several input planes. In this case, ReLU function applied \n",
    "                   in each filter.\n",
    "                   https://pytorch.org/docs/stable/nn.html#torch.nn.Linear\n",
    "        \n",
    "        nn.MaxPool2d: Applies a 2D max pooling over an input signal composed of several input planes.\n",
    "                      https://pytorch.org/docs/stable/nn.html#torch.nn.Linear      \n",
    "        \n",
    "        nn.Linear: Applies a linear transformation to the incoming data: \n",
    "                   https://pytorch.org/docs/stable/nn.html#torch.nn.Linear\n",
    "        \n",
    "        view: reshapes tensor using same data Ex below: x.view(-1, 16 * 5 * 5)\n",
    "\n",
    "        Other notes:\n",
    "            * Number of out_channels in one layer will be the number of in_channels in the next layer\n",
    "            * Number of out_channels is mostly a matter of preference but there may be some constraints\n",
    "            * Number of in_features in fully connected layer 1 (fc1) is number of output channels in \n",
    "              previous layer (16) * height of previous filter i.e. kernel_size (5) * width of previous filter i.e. kernel_size (5)\n",
    "              in_features=16 * 5 * 5\n",
    "            * 133 final output features in fully connected layer 3 (fc3) which is the number of dog breeds which have\n",
    "              assigned probabilities after each forward pass\n",
    "            * At the end of 2nd convolutional layer (convolutions and max pooling),\n",
    "                x dimensions => torch.Size([64, 16, 5, 5])\n",
    "                64 images\n",
    "                16 filters (output_channels from 2nd layer)\n",
    "                5 h of filter\n",
    "                5 w of filter\n",
    "            \n",
    "              So we need to resize the tensor to be [64, 400] with x = x.view(-1, 16 * 5 * 5)\n",
    "                64 images\n",
    "                400 input features in to fully connected layer 1 (fc1)\n",
    "        '''\n",
    "        self.conv1 = nn.Conv2d(in_channels=3, out_channels=6, kernel_size=5, stride=1)\n",
    "        self.pool = nn.MaxPool2d(kernel_size=2, stride=2)\n",
    "        self.conv2 = nn.Conv2d(6, 16, 5)\n",
    "        self.fc1 = nn.Linear(in_features=16 * 5 * 5, out_features=120)\n",
    "        self.fc2 = nn.Linear(120, 84)\n",
    "        self.fc3 = nn.Linear(84, 133)\n",
    "            \n",
    "    def forward(self, x):\n",
    "        ## Define forward behavior\n",
    "        x = self.pool(F.relu(self.conv1(x)))\n",
    "        x = self.pool(F.relu(self.conv2(x)))\n",
    "        x = x.view(-1, 16 * 5 * 5)\n",
    "        x = F.relu(self.fc1(x))\n",
    "        x = F.relu(self.fc2(x))\n",
    "        x = self.fc3(x)\n",
    "        return x\n",
    "\n",
    "#-#-# You so NOT have to modify the code below this line. #-#-#\n",
    "\n",
    "# instantiate the CNN\n",
    "model_scratch = Net()\n",
    "\n",
    "# move tensors to GPU if CUDA is available\n",
    "if use_cuda:\n",
    "    model_scratch.cuda()"
   ]
  },
  {
   "cell_type": "markdown",
   "metadata": {},
   "source": [
    "__Question 4:__ Outline the steps you took to get to your final CNN architecture and your reasoning at each step.  "
   ]
  },
  {
   "cell_type": "markdown",
   "metadata": {},
   "source": [
    "__Answer:__ \n",
    "\n",
    "I set the basic arguments for the "
   ]
  },
  {
   "cell_type": "markdown",
   "metadata": {},
   "source": [
    "Resources:\n",
    "\n",
    "http://giant.uji.es/blog/convnet/convnet.html\n",
    "\n",
    "https://pytorch.org/tutorials/beginner/blitz/cifar10_tutorial.html\n",
    "\n"
   ]
  },
  {
   "cell_type": "markdown",
   "metadata": {},
   "source": [
    "### (IMPLEMENTATION) Specify Loss Function and Optimizer\n",
    "\n",
    "Use the next code cell to specify a [loss function](http://pytorch.org/docs/stable/nn.html#loss-functions) and [optimizer](http://pytorch.org/docs/stable/optim.html).  Save the chosen loss function as `criterion_scratch`, and the optimizer as `optimizer_scratch` below."
   ]
  },
  {
   "cell_type": "code",
   "execution_count": 16,
   "metadata": {},
   "outputs": [],
   "source": [
    "from torch import nn, optim\n",
    "'''\n",
    "loss function: function to evaluate how well an algorithm models the dataset. Ex mean squared error loss function,\n",
    "               cross entropy loss\n",
    "                \n",
    "CrossEntropyLoss: combines nn.LogSoftmax() and nn.NLLoss() into a single class\n",
    "                  https://pytorch.org/docs/stable/nn.html#crossentropyloss\n",
    "                  https://en.wikipedia.org/wiki/Cross_entropy\n",
    "                  https://datascience.stackexchange.com/questions/20296/cross-entropy-loss-explanation\n",
    "\n",
    "loss.backward(): whole graph is differentiated with respect to the loss to find the gradient\n",
    "\n",
    "optimizer.step(): updates each parameter x using the gradient x.grad (ex. SGD optimizer: x+= -lr * x.grad)\n",
    "                  https://pytorch.org/docs/stable/optim.html#torch.optim.SGD\n",
    "'''\n",
    "### TODO: DONE: select loss function\n",
    "criterion_scratch = nn.CrossEntropyLoss()\n",
    "\n",
    "### TODO: DONE: select optimizer\n",
    "optimizer_scratch = optim.SGD(model_scratch.parameters(), lr=0.001, momentum=0.9)"
   ]
  },
  {
   "cell_type": "markdown",
   "metadata": {},
   "source": [
    "### (IMPLEMENTATION) Train and Validate the Model\n",
    "\n",
    "Train and validate your model in the code cell below.  [Save the final model parameters](http://pytorch.org/docs/master/notes/serialization.html) at filepath `'model_scratch.pt'`."
   ]
  },
  {
   "cell_type": "code",
   "execution_count": 17,
   "metadata": {},
   "outputs": [],
   "source": [
    "def train(n_epochs, loaders, model, optimizer, criterion, use_cuda, save_path):\n",
    "    \"\"\"returns trained model\"\"\"\n",
    "    # initialize tracker for minimum validation loss\n",
    "    valid_loss_min = np.Inf \n",
    "    \n",
    "    for epoch in range(1, n_epochs+1):\n",
    "        # initialize variables to monitor training and validation loss\n",
    "        train_loss = 0.0\n",
    "        valid_loss = 0.0\n",
    "        \n",
    "        ###################\n",
    "        # train the model #\n",
    "        ###################\n",
    "        \n",
    "        model.train()\n",
    "        \n",
    "        for batch_idx, (data, target) in enumerate(loaders['train']):\n",
    "            # move to GPU\n",
    "            if use_cuda:\n",
    "                data, target = data.cuda(), target.cuda()\n",
    "            ## find the loss and update the model parameters accordingly\n",
    "            ## record the average training loss, using something like\n",
    "            ## train_loss = train_loss + ((1 / (batch_idx + 1)) * (loss.data - train_loss))\n",
    "            \n",
    "            # zero the parameter gradients\n",
    "            optimizer.zero_grad()\n",
    "            \n",
    "            # forward pass and get the output probabilities\n",
    "            outputs = model(data)\n",
    "            \n",
    "            # get the loss \n",
    "            loss = criterion(outputs, target)\n",
    "            \n",
    "            # back propagation: backward pass to get the gradient\n",
    "            # whole graph differentiated with respect to the loss\n",
    "            # http://seba1511.net/tutorials/beginner/blitz/neural_networks_tutorial.html#backprop\n",
    "            loss.backward()\n",
    "\n",
    "            # adjust each parameter weight\n",
    "            optimizer.step()\n",
    "            \n",
    "            # accumulate the training loss\n",
    "            # multiple the loss by the total number images per batch (data.size(0))\n",
    "            # to get the total loss\n",
    "            train_loss += loss.item() * data.size(0)\n",
    "            \n",
    "        ######################    \n",
    "        # validate the model #\n",
    "        ######################\n",
    "        \n",
    "        model.eval()\n",
    "\n",
    "        for batch_idx, (data, target) in enumerate(loaders['valid']):\n",
    "            # move to GPU\n",
    "            if use_cuda:\n",
    "                data, target = data.cuda(), target.cuda()\n",
    "            \n",
    "            optimizer.zero_grad()\n",
    "            outputs = model(data)\n",
    "            loss = criterion(outputs, target)\n",
    "            loss.backward()\n",
    "            optimizer.step()\n",
    "\n",
    "            ## update the average validation loss\n",
    "            valid_loss += loss.item() * data.size(0) \n",
    "        \n",
    "        # compute average loss for training phase\n",
    "        train_loss = train_loss / len(loaders['train'].dataset)\n",
    "        \n",
    "        # compute average loss for validation phase\n",
    "        valid_loss = valid_loss / len(loaders['valid'].dataset)\n",
    "        \n",
    "        # print training/validation statistics \n",
    "        print('Epoch: {} \\tTraining Loss: {:.6f} \\tValidation Loss: {:.6f}'.format(\n",
    "            epoch, \n",
    "            train_loss,\n",
    "            valid_loss\n",
    "            ))\n",
    "\n",
    "        ## TODO: DONE: save the model if validation loss has decreased\n",
    "        if valid_loss < valid_loss_min:\n",
    "            print('Validation loss decreased from {:.6f} to {:.6f}'.format(valid_loss_min, valid_loss))\n",
    "            torch.save(model.state_dict(), save_path)\n",
    "            valid_loss_min = valid_loss\n",
    "            print('Model Saved')\n",
    "\n",
    "    # return trained model\n",
    "    return model\n",
    "    "
   ]
  },
  {
   "cell_type": "code",
   "execution_count": 18,
   "metadata": {},
   "outputs": [
    {
     "name": "stdout",
     "output_type": "stream",
     "text": [
      "Epoch: 1 \tTraining Loss: 4.893726 \tValidation Loss: 4.892617\n",
      "Validation loss decreased from inf to 4.892617\n",
      "Model Saved\n",
      "Epoch: 2 \tTraining Loss: 4.892787 \tValidation Loss: 4.892210\n",
      "Validation loss decreased from 4.892617 to 4.892210\n",
      "Model Saved\n",
      "Epoch: 3 \tTraining Loss: 4.891862 \tValidation Loss: 4.891285\n",
      "Validation loss decreased from 4.892210 to 4.891285\n",
      "Model Saved\n",
      "Epoch: 4 \tTraining Loss: 4.891139 \tValidation Loss: 4.890754\n",
      "Validation loss decreased from 4.891285 to 4.890754\n",
      "Model Saved\n",
      "Epoch: 5 \tTraining Loss: 4.890267 \tValidation Loss: 4.890016\n",
      "Validation loss decreased from 4.890754 to 4.890016\n",
      "Model Saved\n",
      "Epoch: 6 \tTraining Loss: 4.889521 \tValidation Loss: 4.889064\n",
      "Validation loss decreased from 4.890016 to 4.889064\n",
      "Model Saved\n",
      "Epoch: 7 \tTraining Loss: 4.888800 \tValidation Loss: 4.888581\n",
      "Validation loss decreased from 4.889064 to 4.888581\n",
      "Model Saved\n",
      "Epoch: 8 \tTraining Loss: 4.888098 \tValidation Loss: 4.887769\n",
      "Validation loss decreased from 4.888581 to 4.887769\n",
      "Model Saved\n",
      "Epoch: 9 \tTraining Loss: 4.887338 \tValidation Loss: 4.887410\n",
      "Validation loss decreased from 4.887769 to 4.887410\n",
      "Model Saved\n",
      "Epoch: 10 \tTraining Loss: 4.886773 \tValidation Loss: 4.886770\n",
      "Validation loss decreased from 4.887410 to 4.886770\n",
      "Model Saved\n",
      "Epoch: 11 \tTraining Loss: 4.886136 \tValidation Loss: 4.886381\n",
      "Validation loss decreased from 4.886770 to 4.886381\n",
      "Model Saved\n",
      "Epoch: 12 \tTraining Loss: 4.885405 \tValidation Loss: 4.885800\n",
      "Validation loss decreased from 4.886381 to 4.885800\n",
      "Model Saved\n",
      "Epoch: 13 \tTraining Loss: 4.884858 \tValidation Loss: 4.885457\n",
      "Validation loss decreased from 4.885800 to 4.885457\n",
      "Model Saved\n",
      "Epoch: 14 \tTraining Loss: 4.884127 \tValidation Loss: 4.884735\n",
      "Validation loss decreased from 4.885457 to 4.884735\n",
      "Model Saved\n",
      "Epoch: 15 \tTraining Loss: 4.883677 \tValidation Loss: 4.884111\n",
      "Validation loss decreased from 4.884735 to 4.884111\n",
      "Model Saved\n",
      "Epoch: 16 \tTraining Loss: 4.883080 \tValidation Loss: 4.883710\n",
      "Validation loss decreased from 4.884111 to 4.883710\n",
      "Model Saved\n",
      "Epoch: 17 \tTraining Loss: 4.882473 \tValidation Loss: 4.883049\n",
      "Validation loss decreased from 4.883710 to 4.883049\n",
      "Model Saved\n",
      "Epoch: 18 \tTraining Loss: 4.881798 \tValidation Loss: 4.882222\n",
      "Validation loss decreased from 4.883049 to 4.882222\n",
      "Model Saved\n",
      "Epoch: 19 \tTraining Loss: 4.881144 \tValidation Loss: 4.882015\n",
      "Validation loss decreased from 4.882222 to 4.882015\n",
      "Model Saved\n",
      "Epoch: 20 \tTraining Loss: 4.880530 \tValidation Loss: 4.881618\n",
      "Validation loss decreased from 4.882015 to 4.881618\n",
      "Model Saved\n",
      "Epoch: 21 \tTraining Loss: 4.879858 \tValidation Loss: 4.880708\n",
      "Validation loss decreased from 4.881618 to 4.880708\n",
      "Model Saved\n",
      "Epoch: 22 \tTraining Loss: 4.878929 \tValidation Loss: 4.880260\n",
      "Validation loss decreased from 4.880708 to 4.880260\n",
      "Model Saved\n",
      "Epoch: 23 \tTraining Loss: 4.878276 \tValidation Loss: 4.879421\n",
      "Validation loss decreased from 4.880260 to 4.879421\n",
      "Model Saved\n",
      "Epoch: 24 \tTraining Loss: 4.877565 \tValidation Loss: 4.878469\n",
      "Validation loss decreased from 4.879421 to 4.878469\n",
      "Model Saved\n",
      "Epoch: 25 \tTraining Loss: 4.876308 \tValidation Loss: 4.877803\n",
      "Validation loss decreased from 4.878469 to 4.877803\n",
      "Model Saved\n"
     ]
    }
   ],
   "source": [
    "# train the model\n",
    "model_scratch = train(25, loaders_scratch, model_scratch, optimizer_scratch, \n",
    "                      criterion_scratch, use_cuda, 'model_scratch.pt')"
   ]
  },
  {
   "cell_type": "code",
   "execution_count": 19,
   "metadata": {},
   "outputs": [],
   "source": [
    "# load the model that got the best validation accuracy\n",
    "model_scratch.load_state_dict(torch.load('model_scratch.pt'))"
   ]
  },
  {
   "cell_type": "markdown",
   "metadata": {},
   "source": [
    "### (IMPLEMENTATION) Test the Model\n",
    "\n",
    "Try out your model on the test dataset of dog images.  Use the code cell below to calculate and print the test loss and accuracy.  Ensure that your test accuracy is greater than 10%."
   ]
  },
  {
   "cell_type": "code",
   "execution_count": 20,
   "metadata": {},
   "outputs": [
    {
     "name": "stdout",
     "output_type": "stream",
     "text": [
      "Test Loss: 4.871027\n",
      "\n",
      "\n",
      "Test Accuracy:  1% (10/836)\n"
     ]
    }
   ],
   "source": [
    "def test(loaders, model, criterion, use_cuda):\n",
    "\n",
    "    # monitor test loss and accuracy\n",
    "    test_loss = 0.\n",
    "    correct = 0.\n",
    "    total = 0.\n",
    "\n",
    "    model.eval()\n",
    "    for batch_idx, (data, target) in enumerate(loaders['test']):\n",
    "        # move to GPU\n",
    "        if use_cuda:\n",
    "            data, target = data.cuda(), target.cuda()\n",
    "        # forward pass: compute predicted outputs by passing inputs to the model\n",
    "        output = model(data)\n",
    "        # calculate the loss\n",
    "        loss = criterion(output, target)\n",
    "        # update average test loss \n",
    "        test_loss = test_loss + ((1 / (batch_idx + 1)) * (loss.data - test_loss))\n",
    "        # convert output probabilities to predicted class\n",
    "        pred = output.data.max(1, keepdim=True)[1]\n",
    "        # compare predictions to true label\n",
    "        correct += np.sum(np.squeeze(pred.eq(target.data.view_as(pred))).cpu().numpy())\n",
    "        total += data.size(0)\n",
    "            \n",
    "    print('Test Loss: {:.6f}\\n'.format(test_loss))\n",
    "\n",
    "    print('\\nTest Accuracy: %2d%% (%2d/%2d)' % (\n",
    "        100. * correct / total, correct, total))\n",
    "\n",
    "# call test function    \n",
    "test(loaders_scratch, model_scratch, criterion_scratch, use_cuda)"
   ]
  },
  {
   "cell_type": "markdown",
   "metadata": {},
   "source": [
    "---\n",
    "<a id='step4'></a>\n",
    "## Step 4: Create a CNN to Classify Dog Breeds (using Transfer Learning)\n",
    "\n",
    "You will now use transfer learning to create a CNN that can identify dog breed from images.  Your CNN must attain at least 60% accuracy on the test set.\n",
    "\n",
    "### (IMPLEMENTATION) Specify Data Loaders for the Dog Dataset\n",
    "\n",
    "Use the code cell below to write three separate [data loaders](http://pytorch.org/docs/master/data.html#torch.utils.data.DataLoader) for the training, validation, and test datasets of dog images (located at `dogImages/train`, `dogImages/valid`, and `dogImages/test`, respectively). \n",
    "\n",
    "If you like, **you are welcome to use the same data loaders from the previous step**, when you created a CNN from scratch."
   ]
  },
  {
   "cell_type": "markdown",
   "metadata": {},
   "source": [
    "### (IMPLEMENTATION) Model Architecture\n",
    "\n",
    "Use transfer learning to create a CNN to classify dog breed.  Use the code cell below, and save your initialized model as the variable `model_transfer`."
   ]
  },
  {
   "cell_type": "markdown",
   "metadata": {},
   "source": [
    "#### Try ResNet out of the box without re-defining the final classifier layer"
   ]
  },
  {
   "cell_type": "code",
   "execution_count": 208,
   "metadata": {},
   "outputs": [
    {
     "data": {
      "text/plain": [
       "ResNet(\n",
       "  (conv1): Conv2d(3, 64, kernel_size=(7, 7), stride=(2, 2), padding=(3, 3), bias=False)\n",
       "  (bn1): BatchNorm2d(64, eps=1e-05, momentum=0.1, affine=True, track_running_stats=True)\n",
       "  (relu): ReLU(inplace)\n",
       "  (maxpool): MaxPool2d(kernel_size=3, stride=2, padding=1, dilation=1, ceil_mode=False)\n",
       "  (layer1): Sequential(\n",
       "    (0): BasicBlock(\n",
       "      (conv1): Conv2d(64, 64, kernel_size=(3, 3), stride=(1, 1), padding=(1, 1), bias=False)\n",
       "      (bn1): BatchNorm2d(64, eps=1e-05, momentum=0.1, affine=True, track_running_stats=True)\n",
       "      (relu): ReLU(inplace)\n",
       "      (conv2): Conv2d(64, 64, kernel_size=(3, 3), stride=(1, 1), padding=(1, 1), bias=False)\n",
       "      (bn2): BatchNorm2d(64, eps=1e-05, momentum=0.1, affine=True, track_running_stats=True)\n",
       "    )\n",
       "    (1): BasicBlock(\n",
       "      (conv1): Conv2d(64, 64, kernel_size=(3, 3), stride=(1, 1), padding=(1, 1), bias=False)\n",
       "      (bn1): BatchNorm2d(64, eps=1e-05, momentum=0.1, affine=True, track_running_stats=True)\n",
       "      (relu): ReLU(inplace)\n",
       "      (conv2): Conv2d(64, 64, kernel_size=(3, 3), stride=(1, 1), padding=(1, 1), bias=False)\n",
       "      (bn2): BatchNorm2d(64, eps=1e-05, momentum=0.1, affine=True, track_running_stats=True)\n",
       "    )\n",
       "  )\n",
       "  (layer2): Sequential(\n",
       "    (0): BasicBlock(\n",
       "      (conv1): Conv2d(64, 128, kernel_size=(3, 3), stride=(2, 2), padding=(1, 1), bias=False)\n",
       "      (bn1): BatchNorm2d(128, eps=1e-05, momentum=0.1, affine=True, track_running_stats=True)\n",
       "      (relu): ReLU(inplace)\n",
       "      (conv2): Conv2d(128, 128, kernel_size=(3, 3), stride=(1, 1), padding=(1, 1), bias=False)\n",
       "      (bn2): BatchNorm2d(128, eps=1e-05, momentum=0.1, affine=True, track_running_stats=True)\n",
       "      (downsample): Sequential(\n",
       "        (0): Conv2d(64, 128, kernel_size=(1, 1), stride=(2, 2), bias=False)\n",
       "        (1): BatchNorm2d(128, eps=1e-05, momentum=0.1, affine=True, track_running_stats=True)\n",
       "      )\n",
       "    )\n",
       "    (1): BasicBlock(\n",
       "      (conv1): Conv2d(128, 128, kernel_size=(3, 3), stride=(1, 1), padding=(1, 1), bias=False)\n",
       "      (bn1): BatchNorm2d(128, eps=1e-05, momentum=0.1, affine=True, track_running_stats=True)\n",
       "      (relu): ReLU(inplace)\n",
       "      (conv2): Conv2d(128, 128, kernel_size=(3, 3), stride=(1, 1), padding=(1, 1), bias=False)\n",
       "      (bn2): BatchNorm2d(128, eps=1e-05, momentum=0.1, affine=True, track_running_stats=True)\n",
       "    )\n",
       "  )\n",
       "  (layer3): Sequential(\n",
       "    (0): BasicBlock(\n",
       "      (conv1): Conv2d(128, 256, kernel_size=(3, 3), stride=(2, 2), padding=(1, 1), bias=False)\n",
       "      (bn1): BatchNorm2d(256, eps=1e-05, momentum=0.1, affine=True, track_running_stats=True)\n",
       "      (relu): ReLU(inplace)\n",
       "      (conv2): Conv2d(256, 256, kernel_size=(3, 3), stride=(1, 1), padding=(1, 1), bias=False)\n",
       "      (bn2): BatchNorm2d(256, eps=1e-05, momentum=0.1, affine=True, track_running_stats=True)\n",
       "      (downsample): Sequential(\n",
       "        (0): Conv2d(128, 256, kernel_size=(1, 1), stride=(2, 2), bias=False)\n",
       "        (1): BatchNorm2d(256, eps=1e-05, momentum=0.1, affine=True, track_running_stats=True)\n",
       "      )\n",
       "    )\n",
       "    (1): BasicBlock(\n",
       "      (conv1): Conv2d(256, 256, kernel_size=(3, 3), stride=(1, 1), padding=(1, 1), bias=False)\n",
       "      (bn1): BatchNorm2d(256, eps=1e-05, momentum=0.1, affine=True, track_running_stats=True)\n",
       "      (relu): ReLU(inplace)\n",
       "      (conv2): Conv2d(256, 256, kernel_size=(3, 3), stride=(1, 1), padding=(1, 1), bias=False)\n",
       "      (bn2): BatchNorm2d(256, eps=1e-05, momentum=0.1, affine=True, track_running_stats=True)\n",
       "    )\n",
       "  )\n",
       "  (layer4): Sequential(\n",
       "    (0): BasicBlock(\n",
       "      (conv1): Conv2d(256, 512, kernel_size=(3, 3), stride=(2, 2), padding=(1, 1), bias=False)\n",
       "      (bn1): BatchNorm2d(512, eps=1e-05, momentum=0.1, affine=True, track_running_stats=True)\n",
       "      (relu): ReLU(inplace)\n",
       "      (conv2): Conv2d(512, 512, kernel_size=(3, 3), stride=(1, 1), padding=(1, 1), bias=False)\n",
       "      (bn2): BatchNorm2d(512, eps=1e-05, momentum=0.1, affine=True, track_running_stats=True)\n",
       "      (downsample): Sequential(\n",
       "        (0): Conv2d(256, 512, kernel_size=(1, 1), stride=(2, 2), bias=False)\n",
       "        (1): BatchNorm2d(512, eps=1e-05, momentum=0.1, affine=True, track_running_stats=True)\n",
       "      )\n",
       "    )\n",
       "    (1): BasicBlock(\n",
       "      (conv1): Conv2d(512, 512, kernel_size=(3, 3), stride=(1, 1), padding=(1, 1), bias=False)\n",
       "      (bn1): BatchNorm2d(512, eps=1e-05, momentum=0.1, affine=True, track_running_stats=True)\n",
       "      (relu): ReLU(inplace)\n",
       "      (conv2): Conv2d(512, 512, kernel_size=(3, 3), stride=(1, 1), padding=(1, 1), bias=False)\n",
       "      (bn2): BatchNorm2d(512, eps=1e-05, momentum=0.1, affine=True, track_running_stats=True)\n",
       "    )\n",
       "  )\n",
       "  (avgpool): AvgPool2d(kernel_size=7, stride=1, padding=0)\n",
       "  (fc): Linear(in_features=512, out_features=1000, bias=True)\n",
       ")"
      ]
     },
     "execution_count": 208,
     "metadata": {},
     "output_type": "execute_result"
    }
   ],
   "source": [
    "# define ResNet18 model\n",
    "model_transfer = models.resnet18(pretrained=True)\n",
    "model_transfer.eval()\n",
    "model_transfer"
   ]
  },
  {
   "cell_type": "code",
   "execution_count": 47,
   "metadata": {},
   "outputs": [
    {
     "data": {
      "text/plain": [
       "'/data/dog_images/train/103.Mastiff/Mastiff_06826.jpg'"
      ]
     },
     "execution_count": 47,
     "metadata": {},
     "output_type": "execute_result"
    }
   ],
   "source": [
    "# get dog img path\n",
    "dog_img_path = dog_files[1]\n",
    "dog_img_path"
   ]
  },
  {
   "cell_type": "code",
   "execution_count": 159,
   "metadata": {},
   "outputs": [
    {
     "data": {
      "image/png": "[encoded data removed]",
      "text/plain": [
       "<PIL.JpegImagePlugin.JpegImageFile image mode=RGB size=300x307 at 0x7F0503D0C6A0>"
      ]
     },
     "execution_count": 159,
     "metadata": {},
     "output_type": "execute_result"
    }
   ],
   "source": [
    "# Get the image, <PIL.JpegImagePlugin.JpegImageFile image mode=RGB size=800x648 at 0x7F882995C320>\n",
    "img_pil = Image.open(dog_img_path)\n",
    "img_pil"
   ]
  },
  {
   "cell_type": "code",
   "execution_count": 160,
   "metadata": {},
   "outputs": [
    {
     "data": {
      "text/plain": [
       "Compose(\n",
       "    Resize(size=256, interpolation=PIL.Image.BILINEAR)\n",
       "    CenterCrop(size=(224, 224))\n",
       "    ToTensor()\n",
       "    Normalize(mean=[0.485, 0.456, 0.406], std=[0.229, 0.224, 0.225])\n",
       ")"
      ]
     },
     "execution_count": 160,
     "metadata": {},
     "output_type": "execute_result"
    }
   ],
   "source": [
    "# Image preprocessing: image transforms and normalization\n",
    "preprocess = transforms.Compose([\n",
    "    transforms.Resize(256),\n",
    "    transforms.CenterCrop(224),\n",
    "    transforms.ToTensor(),\n",
    "    transforms.Normalize(mean=[0.485, 0.456, 0.406], std=[0.229, 0.224, 0.225])\n",
    "])\n",
    "preprocess"
   ]
  },
  {
   "cell_type": "code",
   "execution_count": 161,
   "metadata": {},
   "outputs": [
    {
     "data": {
      "text/plain": [
       "tensor([[[-1.8953, -1.8610, -0.7479,  ..., -0.0116, -0.0287,  0.0398],\n",
       "         [-1.9638, -1.3302, -0.2171,  ..., -0.0458, -0.0972,  0.1083],\n",
       "         [-1.8953, -0.6109, -0.0287,  ..., -0.0972, -0.1657,  0.1254],\n",
       "         ...,\n",
       "         [-0.3027, -0.3369, -0.2513,  ..., -1.0048, -0.8849, -1.0904],\n",
       "         [-0.4739, -0.6109, -0.6109,  ..., -1.3815, -1.3302, -1.2617],\n",
       "         [-0.5938, -0.7993, -0.9363,  ..., -1.8268, -1.8097, -1.5528]],\n",
       "\n",
       "        [[-1.8606, -1.8081, -0.6877,  ...,  0.2752,  0.2577,  0.3102],\n",
       "         [-1.9307, -1.3179, -0.1800,  ...,  0.2402,  0.1877,  0.3803],\n",
       "         [-1.8782, -0.5826,  0.0126,  ...,  0.1877,  0.1176,  0.3978],\n",
       "         ...,\n",
       "         [ 0.0126, -0.0224,  0.0826,  ..., -0.8803, -0.7402, -1.0028],\n",
       "         [-0.2150, -0.3550, -0.3550,  ..., -1.2479, -1.1954, -1.1253],\n",
       "         [-0.3375, -0.5651, -0.6877,  ..., -1.6681, -1.6506, -1.3880]],\n",
       "\n",
       "        [[-1.5256, -1.5081, -0.3753,  ...,  0.7402,  0.7402,  0.7576],\n",
       "         [-1.6127, -0.9853,  0.1476,  ...,  0.7054,  0.6705,  0.8274],\n",
       "         [-1.5604, -0.2707,  0.3393,  ...,  0.6705,  0.6008,  0.8448],\n",
       "         ...,\n",
       "         [ 0.5136,  0.4788,  0.5659,  ..., -0.4450, -0.2881, -0.5321],\n",
       "         [ 0.2522,  0.1128,  0.1476,  ..., -0.8110, -0.7413, -0.6715],\n",
       "         [ 0.1128, -0.0964, -0.2184,  ..., -1.2641, -1.2119, -0.9504]]])"
      ]
     },
     "execution_count": 161,
     "metadata": {},
     "output_type": "execute_result"
    }
   ],
   "source": [
    "# Preprocess image\n",
    "input_tensor = preprocess(img_pil)\n",
    "input_tensor"
   ]
  },
  {
   "cell_type": "code",
   "execution_count": 162,
   "metadata": {},
   "outputs": [
    {
     "data": {
      "text/plain": [
       "tensor([[[[-1.8953, -1.8610, -0.7479,  ..., -0.0116, -0.0287,  0.0398],\n",
       "          [-1.9638, -1.3302, -0.2171,  ..., -0.0458, -0.0972,  0.1083],\n",
       "          [-1.8953, -0.6109, -0.0287,  ..., -0.0972, -0.1657,  0.1254],\n",
       "          ...,\n",
       "          [-0.3027, -0.3369, -0.2513,  ..., -1.0048, -0.8849, -1.0904],\n",
       "          [-0.4739, -0.6109, -0.6109,  ..., -1.3815, -1.3302, -1.2617],\n",
       "          [-0.5938, -0.7993, -0.9363,  ..., -1.8268, -1.8097, -1.5528]],\n",
       "\n",
       "         [[-1.8606, -1.8081, -0.6877,  ...,  0.2752,  0.2577,  0.3102],\n",
       "          [-1.9307, -1.3179, -0.1800,  ...,  0.2402,  0.1877,  0.3803],\n",
       "          [-1.8782, -0.5826,  0.0126,  ...,  0.1877,  0.1176,  0.3978],\n",
       "          ...,\n",
       "          [ 0.0126, -0.0224,  0.0826,  ..., -0.8803, -0.7402, -1.0028],\n",
       "          [-0.2150, -0.3550, -0.3550,  ..., -1.2479, -1.1954, -1.1253],\n",
       "          [-0.3375, -0.5651, -0.6877,  ..., -1.6681, -1.6506, -1.3880]],\n",
       "\n",
       "         [[-1.5256, -1.5081, -0.3753,  ...,  0.7402,  0.7402,  0.7576],\n",
       "          [-1.6127, -0.9853,  0.1476,  ...,  0.7054,  0.6705,  0.8274],\n",
       "          [-1.5604, -0.2707,  0.3393,  ...,  0.6705,  0.6008,  0.8448],\n",
       "          ...,\n",
       "          [ 0.5136,  0.4788,  0.5659,  ..., -0.4450, -0.2881, -0.5321],\n",
       "          [ 0.2522,  0.1128,  0.1476,  ..., -0.8110, -0.7413, -0.6715],\n",
       "          [ 0.1128, -0.0964, -0.2184,  ..., -1.2641, -1.2119, -0.9504]]]])"
      ]
     },
     "execution_count": 162,
     "metadata": {},
     "output_type": "execute_result"
    }
   ],
   "source": [
    "input_batch = input_tensor.unsqueeze_(0)\n",
    "input_batch"
   ]
  },
  {
   "cell_type": "code",
   "execution_count": 163,
   "metadata": {},
   "outputs": [],
   "source": [
    "# move input and model to GPU if available\n",
    "if torch.cuda.is_available():\n",
    "    input_batch = input_batch.to('cuda')\n",
    "    model_transfer.to('cuda')"
   ]
  },
  {
   "cell_type": "code",
   "execution_count": 164,
   "metadata": {},
   "outputs": [],
   "source": [
    "with torch.no_grad():\n",
    "    output = model_transfer(input_batch)"
   ]
  },
  {
   "cell_type": "code",
   "execution_count": 165,
   "metadata": {},
   "outputs": [
    {
     "name": "stdout",
     "output_type": "stream",
     "text": [
      "tensor([  0.4052,  -3.0525,   0.6405,   0.7612,   1.5262,   1.3969,\n",
      "         -0.8983,   0.6051,  -1.2249,  -1.7052,  -0.5034,  -2.4286,\n",
      "         -3.0058,  -2.5576,  -4.0057,  -3.5614,  -1.2734,  -1.3788,\n",
      "         -2.3002,  -1.6153,  -4.0305,  -0.6935,  -3.5770,  -0.9791,\n",
      "         -1.9952,  -3.6029,  -0.8759,  -4.2027,  -2.6478,  -0.7252,\n",
      "         -1.7386,  -2.7480,  -1.4282,   0.7554,   0.0222,  -2.4861,\n",
      "         -1.5316,  -3.6297,   0.5709,  -1.2028,  -1.5974,  -0.8199,\n",
      "         -4.8685,  -0.9200,  -0.3516,   0.8056,  -1.6431,   1.1103,\n",
      "         -1.4251,  -0.3566,  -1.8887,  -0.1579,   0.1305,   0.1759,\n",
      "          1.3040,  -0.7461,  -0.5814,  -1.1293,  -1.5027,   0.5917,\n",
      "          1.7283,   0.9557,   1.1981,   0.5444,  -0.0326,  -0.3191,\n",
      "          0.5945,   2.0244,   0.1563,  -1.8245,  -0.5500,   0.6195,\n",
      "         -1.9899,  -1.0533,  -2.5027,  -1.1653,  -1.0321,  -1.3669,\n",
      "         -0.7944,  -1.9370,  -2.5246,  -2.6416,  -0.8800,  -1.3183,\n",
      "         -3.4825,  -3.0701,  -0.4869,  -2.0974,  -2.6316,  -1.4865,\n",
      "         -3.4161,  -4.2957,  -2.9999,  -2.4327,  -3.4895,  -3.4110,\n",
      "         -5.0303,  -2.7804,  -3.9863,  -1.2164,  -2.2441,   3.7381,\n",
      "         -3.4024,  -2.9021,   0.0142,  -2.4237,  -2.1292,  -2.7431,\n",
      "         -3.4187,  -4.3574,  -0.8264,   0.5679,  -0.6509,  -0.7946,\n",
      "         -2.5342,  -3.8939,  -0.4573,   0.7359,  -0.9034,  -1.9798,\n",
      "         -1.8386,  -1.4804,  -1.5574,  -1.3439,  -0.6573,  -3.3620,\n",
      "          2.0930,  -1.5641,  -0.8968,  -0.8823,  -1.8327,  -3.2063,\n",
      "         -0.1974,  -2.5112,  -1.8762,  -3.7434,  -2.8365,  -2.5539,\n",
      "         -0.0554,  -0.7353,  -3.1508,  -3.7715,  -1.2555,  -1.0230,\n",
      "         -1.0087,  -1.0626,  -1.0135,  -1.7109,  -1.5604,   0.0568,\n",
      "          0.8166,   3.4626,   3.1998,   1.0301,   4.6620,   3.2998,\n",
      "         -0.8826,   1.5949,   4.6272,   7.8255,   3.6940,   2.6163,\n",
      "          2.3192,   9.5089,   3.1907,   4.2388,   4.7600,   4.0776,\n",
      "          5.0744,   1.9960,   6.1823,   2.9101,   4.4755,   3.1920,\n",
      "          5.0860,   1.2045,   3.6777,   2.0168,   4.8987,   8.8713,\n",
      "          9.7575,  -1.9986,   3.8099,   0.8101,   3.3592,   2.6489,\n",
      "          1.2397,   0.1931,   1.0759,   1.0074,   1.9286,  -1.1659,\n",
      "          4.4893,   2.3498,   1.2548,   5.8567,   2.2930,   5.1157,\n",
      "          4.8253,   2.5431,   5.4193,   0.6698,   3.1310,   0.4588,\n",
      "          5.9788,   2.4505,  -0.3679,   3.9906,   7.8248,   4.8578,\n",
      "          3.4570,   3.9229,   1.4085,  -0.2834,  -0.4378,   2.6379,\n",
      "          3.3707,   1.8022,  -1.4915,   1.0187,   3.7347,  -1.7635,\n",
      "          3.8321,   1.7412,   1.1257,   5.9171,   4.5422,   3.6926,\n",
      "         -0.5382,  -0.1598,   0.3869,   3.2191,   2.3048,   2.9927,\n",
      "          5.2375,   5.7213,   3.6557,   1.2712,   4.6761,  -0.3015,\n",
      "          3.0256,   1.9535,  11.0788,  14.8629,   5.3102,   7.9894,\n",
      "         11.7236,   7.9109,   2.4694,   0.6292,   2.3383,   3.5346,\n",
      "          2.9412,   4.4820,  10.6865,   5.3596,   5.4080,   6.0107,\n",
      "         -0.0364,   0.7711,   3.7374,   1.9838,   6.7991,  -0.8796,\n",
      "          1.5094,  -1.1946,  -1.9353,   0.1640,   3.4794,   1.3710,\n",
      "          1.7571,   1.0865,  -0.7429,   4.8273,   2.0693,   3.2801,\n",
      "          0.8031,  -2.9090,  -2.3413,   0.9508,  -1.0457,   1.6265,\n",
      "          2.6790,  -0.7889,   3.8394,   1.1768,   4.7822,   1.7320,\n",
      "          1.8955,  -0.3161,   1.9313,   6.9312,   3.6088,  -1.1775,\n",
      "          0.7768,  -1.8092,   1.0495,  -1.8445,  -2.4439,  -1.9792,\n",
      "         -2.7606,  -3.3952,  -0.9588,  -0.8857,  -2.7416,  -3.3283,\n",
      "         -2.4371,  -1.5700,  -2.7741,  -0.9485,  -0.5271,   2.0055,\n",
      "          0.3185,  -0.5848,  -0.1908,  -2.7364,  -2.3460,  -1.7532,\n",
      "         -2.1136,  -4.4456,  -4.5858,  -1.9396,  -2.6654,  -1.8840,\n",
      "         -3.0750,  -3.2103,  -3.3097,  -1.1576,  -2.9716,  -3.4992,\n",
      "         -2.6882,  -2.0388,  -0.7249,  -4.8185,  -3.2752,  -4.5625,\n",
      "         -5.8352,  -1.0865,   0.7033,   0.8384,   1.8890,   5.3159,\n",
      "          3.1103,   4.0657,   0.8400,   5.0636,   2.9059,   1.8636,\n",
      "          2.9404,   1.9943,   2.1385,   3.7887,   3.1505,   2.4506,\n",
      "          1.2677,   0.2537,  -1.4954,  -1.5230,  -2.4373,  -1.6946,\n",
      "         -1.1470,  -1.9089,  -1.2682,  -1.7772,  -0.1848,  -0.9475,\n",
      "          0.2910,  -0.4414,  -0.9283,  -3.2397,   0.0276,  -0.0440,\n",
      "         -0.8926,  -0.2656,  -0.4217,  -1.7608,  -1.4623,  -1.7145,\n",
      "         -1.9330,   1.0310,   0.2090,  -0.9127,  -2.6624,  -3.9570,\n",
      "         -2.2419,   4.3030,   1.2512,  -5.9138,  -2.2339,   1.9065,\n",
      "         -1.4344,   0.4871,  -3.7963,  -4.6895,   1.2265,   1.1798,\n",
      "         -3.3088,  -2.2952,   1.9409,   0.7693,  -1.5022,   0.9985,\n",
      "          1.1084,  -2.6789,  -2.7939,  -2.2975,  -0.0608,   0.4691,\n",
      "          0.6072,   0.9173,   0.1205,  -1.5636,   1.7197,   1.0564,\n",
      "         -0.2638,  -1.0227,  -1.2209,   0.8994,  -1.1817,  -0.4242,\n",
      "          1.8575,   1.6320,   3.5870,   0.4284,  -0.3287,  -3.3686,\n",
      "          0.6830,   0.8821,   1.7550,   0.8703,  -1.2096,   1.4173,\n",
      "          0.5858,   0.6808,   1.0658,   2.4791,   0.7718,   0.6073,\n",
      "         -0.8105,   0.6446,  -1.6881,  -0.3319,  -0.3595,  -2.6299,\n",
      "         -0.2999,   0.3900,  -0.5646,  -0.9166,  -2.5726,  -0.6263,\n",
      "         -1.0907,   0.0676,  -1.2160,  -0.4934,  -1.1230,  -0.6376,\n",
      "          1.0340,   0.9239,   0.4377,   0.7422,  -1.2461,   0.3966,\n",
      "         -0.6303,   3.8305,   1.5705,   3.0336,  -1.1064,  -0.8334,\n",
      "          0.6864,   2.6317,  -0.0957,   0.9451,  -0.1344,  -0.7098,\n",
      "         -1.7297,  -1.0340,  -1.4032,  -0.0959,  -1.8064,   0.8563,\n",
      "          1.9340,  -0.6478,  -0.4598,  -0.7888,  -2.0642,  -0.3013,\n",
      "         -0.9618,   0.2819,   0.0882,  -1.0054,   0.7037,  -0.4725,\n",
      "          0.5301,   1.1630,  -1.5169,   0.6196,  -1.1488,  -1.3307,\n",
      "         -1.0856,   0.4541,  -4.3855,  -0.1296,   0.9970,  -0.4841,\n",
      "         -0.2317,   0.3924,   1.4193,   5.4350,  -0.1413,  -2.1566,\n",
      "         -1.6940,  -0.1165,   0.0950,  -0.1386,  -0.2989,   2.0020,\n",
      "          0.6402,  -0.3846,  -0.5151,   1.0589,  -1.8333,   0.0948,\n",
      "         -1.7178,   1.4814,  -0.3768,  -1.9224,  -0.9981,  -0.8432,\n",
      "         -0.0357,  -1.3541,   1.3698,   2.1977,  -0.2477,  -1.9782,\n",
      "          2.6840,   1.1462,  -2.3999,   1.0397,  -1.8754,   4.9263,\n",
      "         -1.4566,   1.2018,   1.2566,   3.7336,   1.9353,   0.6327,\n",
      "          1.2677,  -3.2055,   0.4914,  -0.5029,  -1.4037,  -0.4386,\n",
      "         -0.2108,   1.3949,   0.1042,   0.0870,   3.2615,   0.1811,\n",
      "         -2.0712,   2.0898,  -1.6286,  -0.6750,   1.5018,  -2.0233,\n",
      "         -0.2275,  -2.2111,   0.1991,   0.1871,  -0.1436,   0.1733,\n",
      "          1.0382,   1.5480,   0.5213,  -2.4404,   0.4527,  -0.6323,\n",
      "         -0.7437,   0.4939,   1.7100,   1.1121,  -0.5669,  -1.1417,\n",
      "         -1.1554,   0.7949,   0.3156,  -1.3421,   0.9638,   0.5813,\n",
      "          1.7371,   1.4012,   1.0330,  -1.4986,  -2.2446,  -1.1591,\n",
      "         -1.1354,  -1.8472,   0.2627,  -1.2171,  -0.0839,   0.1083,\n",
      "          2.1658,   0.1492,  -0.5562,   1.5914,  -0.5472,  -0.9585,\n",
      "          0.0052,   1.3383,   0.2299,   1.8615,   2.3488,  -1.9767,\n",
      "          0.5807,  -0.9525,  -1.3556,  -0.7185,   0.8905,  -0.7118,\n",
      "          1.1915,   1.0851,   0.4922,   0.4165,  -0.7542,   0.4301,\n",
      "         -1.5554,  -1.7519,  -0.7155,   1.6774,  -2.6886,  -0.9551,\n",
      "          0.4561,   0.0383,   1.0708,  -0.7864,  -1.0359,  -0.3019,\n",
      "          0.9135,   1.2631,   1.0932,   2.4083,  -1.4118,  -0.3614,\n",
      "         -1.0815,   1.0582,   1.6949,  -1.8575,  -0.6273,  -0.2511,\n",
      "         -0.2405,  -4.6461,   0.1894,   0.9946,   0.7660,   1.3244,\n",
      "          1.3341,   0.5426,   0.8447,  -1.1780,  -1.6533,  -0.7172,\n",
      "         -0.3705,  -0.3252,  -0.3593,   0.1719,   0.7848,  -1.5284,\n",
      "          0.9562,  -2.8855,  -0.1772,  -0.3195,  -0.2668,  -1.8998,\n",
      "         -0.8834,  -0.6456,  -0.0274,   0.7578,   7.1507,  -0.7635,\n",
      "          1.7497,  -1.6014,  -1.4130,   0.9659,  -1.8948,  -0.1461,\n",
      "         -2.7290,  -0.8240,   1.3677,   0.7986,  -0.9531,  -0.4590,\n",
      "          4.3581,   0.6285,  -1.0906,   0.2126,  -0.1910,  -0.8315,\n",
      "         -1.1625,  -0.8571,   0.9599,  -0.2418,   2.1469,  -0.1228,\n",
      "         -0.1852,  -0.4724,  -0.4080,  -2.1068,  -1.7699,   0.8793,\n",
      "          2.7114,  -2.2695,  -0.3210,  -1.6486,  -0.7171,  -0.8472,\n",
      "          1.2552,   0.1129,  -0.6479,  -0.7629,  -0.5858,   1.3051,\n",
      "         -0.3321,  -0.6777,   1.0368,  -2.7117,  -0.5645,  -0.6470,\n",
      "         -0.4039,  -1.4092,   1.2969,   1.6109,   1.3774,   1.9859,\n",
      "         -0.6270,   2.1975,   1.5084,   0.4405,   0.5507,  -2.0319,\n",
      "          1.7132,   1.6829,   1.0942,   0.2112,  -0.1611,   1.6535,\n",
      "         -0.2431,  -0.2591,   0.8316,  -0.1222,  -0.7264,  -0.6058,\n",
      "          1.0325,  -1.7914,  -0.4660,   2.6266,   0.3518,  -1.5889,\n",
      "          1.5661,   0.0529,   2.0527,  -0.2187,   1.1981,   0.8456,\n",
      "         -1.8614,   1.3272,   0.2884,   0.3166,   1.7608,  -1.6705,\n",
      "         -1.0318,  -0.6519,  -0.1511,   3.1247,  -1.4911,  -0.8469,\n",
      "          0.6168,   0.3441,  -0.3938,   0.7296,  -1.2825,  -0.5289,\n",
      "          0.2104,  -0.6162,   0.9505,   0.7209,   0.9368,   2.9570,\n",
      "         -0.9091,   0.4518,  -0.6088,   1.2253,   0.0647,   0.8127,\n",
      "          2.6339,   2.3892,   0.5405,  -2.0767,   0.1705,  -0.0730,\n",
      "         -0.8643,   0.9489,  -0.5942,  -1.4046,  -3.0827,  -1.4968,\n",
      "          0.5651,   2.8407,  -0.9144,  -0.0765,   1.8796,  -2.4844,\n",
      "          0.7055,   3.7076,  -0.6874,   1.8105,  -1.7604,  -1.9028,\n",
      "         -1.4212,  -1.5397,   1.4946,   0.9400,  -2.2323,  -2.6093,\n",
      "          1.4785,  -1.9606,  -0.5602,  -1.4221,   0.3880,   3.3989,\n",
      "          2.0447,  -2.1027,   0.5720,   0.2809,  -0.6088,  -2.2426,\n",
      "          1.1791,  -0.1377,   0.0313,  -0.1557,  -0.0357,  -3.0259,\n",
      "          0.1326,   2.2251,  -0.8271,  -1.8701,   2.6045,  -0.4038,\n",
      "          1.5028,  -0.0446,   0.5671,  -2.6785,  -3.2896,   0.8297,\n",
      "          4.3420,  -0.9440,  -0.5437,  -0.5401,  -1.4023,   0.6994,\n",
      "         -1.0071,   0.3439,  -0.2046,   2.3819,  -1.2194,  -2.6783,\n",
      "         -0.3532,  -1.1245,  -0.1174,  -0.1804,   0.9684,   2.0181,\n",
      "         -1.7621,  -2.3626,   0.9834,  -0.7008,  -2.2876,   1.7735,\n",
      "          3.2244,  -2.0945,   0.6305,  -0.3350,  -0.7848,   1.7930,\n",
      "         -0.2387,   0.3562,   1.8743,   0.8637,  -1.2646,  -0.8735,\n",
      "         -2.0716,  -0.2667,  -2.2428,   1.5991,   0.7029,  -2.8579,\n",
      "         -0.1534,  -2.4715,   1.2136,   2.2099,  -0.2752,   0.3719,\n",
      "         -1.2087,   0.8993,   0.8121,  -0.8130,   2.1636,   0.2288,\n",
      "         -0.6824,  -0.5930,  -4.6227,  -0.6864,   1.1989,  -1.3234,\n",
      "          2.1602,  -1.1413,  -2.0286,  -0.6386,   0.5277,  -0.4594,\n",
      "         -0.0092,  -0.6703,  -0.2699,   0.5616,  -3.2315,  -0.7373,\n",
      "         -2.8894,  -2.0716,  -2.1435,  -1.8488,  -1.5043,   0.5639,\n",
      "          0.0209,  -2.4190,  -1.3704,  -3.7853,  -1.4018,  -2.3372,\n",
      "         -0.2143,  -1.9810,  -2.2434,  -0.1507,  -0.2129,   1.1549,\n",
      "          0.9070,  -1.2931,   0.6078,   1.1907,   0.4711,  -1.3976,\n",
      "          0.0234,  -1.7294,  -2.7246,  -1.3185,  -2.0616,  -3.3042,\n",
      "         -2.5814,  -2.3316,   0.9340,   0.2542,  -2.9891,  -1.3135,\n",
      "         -1.3232,   0.9903,  -2.5198,  -2.1535,  -1.4768,  -1.4661,\n",
      "         -1.0907,  -1.3945,   0.2074,  -0.7018,  -3.0730,   0.5522,\n",
      "         -1.6217,  -3.7818,  -1.2025,   1.0361,  -2.1450,   0.3690,\n",
      "         -0.4888,  -1.8563,  -1.4848,   0.9894,   1.1302,  -3.5157,\n",
      "         -1.4088,  -2.3366,  -2.8296,  -0.2484,  -3.7364,  -1.8483,\n",
      "         -3.3205,  -3.2576,  -2.5567,  -2.4254,  -1.2517,  -0.3454,\n",
      "         -0.9113,  -3.6744,   0.1194,   2.2901], device='cuda:0')\n",
      "tensor([ 4.7706e-07,  1.5029e-08,  6.0362e-07,  6.8105e-07,  1.4636e-06,\n",
      "         1.2862e-06,  1.2957e-07,  5.8265e-07,  9.3466e-08,  5.7819e-08,\n",
      "         1.9229e-07,  2.8048e-08,  1.5747e-08,  2.4652e-08,  5.7937e-09,\n",
      "         9.0346e-09,  8.9037e-08,  8.0129e-08,  3.1890e-08,  6.3256e-08,\n",
      "         5.6517e-09,  1.5901e-07,  8.8951e-09,  1.1950e-07,  4.3263e-08,\n",
      "         8.6676e-09,  1.3250e-07,  4.7577e-09,  2.2525e-08,  1.5405e-07,\n",
      "         5.5917e-08,  2.0377e-08,  7.6271e-08,  6.7713e-07,  3.2527e-07,\n",
      "         2.6478e-08,  6.8774e-08,  8.4384e-09,  5.6304e-07,  9.5553e-08,\n",
      "         6.4399e-08,  1.4012e-07,  2.4448e-09,  1.2679e-07,  2.2382e-07,\n",
      "         7.1197e-07,  6.1521e-08,  9.6561e-07,  7.6502e-08,  2.2270e-07,\n",
      "         4.8122e-08,  2.7167e-07,  3.6248e-07,  3.7931e-07,  1.1719e-06,\n",
      "         1.5085e-07,  1.7787e-07,  1.0284e-07,  7.0794e-08,  5.7488e-07,\n",
      "         1.7915e-06,  8.2727e-07,  1.0543e-06,  5.4833e-07,  3.0794e-07,\n",
      "         2.3122e-07,  5.7647e-07,  2.4087e-06,  3.7196e-07,  5.1312e-08,\n",
      "         1.8355e-07,  5.9111e-07,  4.3490e-08,  1.1096e-07,  2.6045e-08,\n",
      "         9.9205e-08,  1.1333e-07,  8.1090e-08,  1.4375e-07,  4.5854e-08,\n",
      "         2.5479e-08,  2.2666e-08,  1.3195e-07,  8.5129e-08,  9.7765e-09,\n",
      "         1.4767e-08,  1.9550e-07,  3.9057e-08,  2.2894e-08,  7.1952e-08,\n",
      "         1.0447e-08,  4.3353e-09,  1.5840e-08,  2.7931e-08,  9.7077e-09,\n",
      "         1.0501e-08,  2.0796e-09,  1.9728e-08,  5.9072e-09,  9.4258e-08,\n",
      "         3.3730e-08,  1.3368e-05,  1.0591e-08,  1.7468e-08,  3.2268e-07,\n",
      "         2.8183e-08,  3.7838e-08,  2.0478e-08,  1.0420e-08,  4.0757e-09,\n",
      "         1.3923e-07,  5.6137e-07,  1.6592e-07,  1.4373e-07,  2.5235e-08,\n",
      "         6.4790e-09,  2.0136e-07,  6.6408e-07,  1.2890e-07,  4.3934e-08,\n",
      "         5.0596e-08,  7.2392e-08,  6.7027e-08,  8.2977e-08,  1.6487e-07,\n",
      "         1.1029e-08,  2.5798e-06,  6.6574e-08,  1.2976e-07,  1.3166e-07,\n",
      "         5.0895e-08,  1.2886e-08,  2.6113e-07,  2.5822e-08,  4.8727e-08,\n",
      "         7.5313e-09,  1.8651e-08,  2.4743e-08,  3.0100e-07,  1.5250e-07,\n",
      "         1.3622e-08,  7.3222e-09,  9.0646e-08,  1.1437e-07,  1.1602e-07,\n",
      "         1.0993e-07,  1.1547e-07,  5.7490e-08,  6.6821e-08,  3.3674e-07,\n",
      "         7.1986e-07,  1.0148e-05,  7.8031e-06,  8.9117e-07,  3.3672e-05,\n",
      "         8.6240e-06,  1.3161e-07,  1.5677e-06,  3.2522e-05,  7.9647e-04,\n",
      "         1.2791e-05,  4.3537e-06,  3.2345e-06,  4.2882e-03,  7.7327e-06,\n",
      "         2.2053e-05,  3.7140e-05,  1.8771e-05,  5.0862e-05,  2.3413e-06,\n",
      "         1.5401e-04,  5.8406e-06,  2.7944e-05,  7.7424e-06,  5.1453e-05,\n",
      "         1.0610e-06,  1.2584e-05,  2.3904e-06,  4.2667e-05,  2.2665e-03,\n",
      "         5.4982e-03,  4.3113e-08,  1.4363e-05,  7.1523e-07,  9.1513e-06,\n",
      "         4.4977e-06,  1.0990e-06,  3.8590e-07,  9.3300e-07,  8.7118e-07,\n",
      "         2.1888e-06,  9.9147e-08,  2.8331e-05,  3.3350e-06,  1.1157e-06,\n",
      "         1.1121e-04,  3.1511e-06,  5.3006e-05,  3.9648e-05,  4.0462e-06,\n",
      "         7.1808e-05,  6.2159e-07,  7.2844e-06,  5.0332e-07,  1.2565e-04,\n",
      "         3.6885e-06,  2.2020e-07,  1.7207e-05,  7.9593e-04,  4.0955e-05,\n",
      "         1.0092e-05,  1.6081e-05,  1.3011e-06,  2.3961e-07,  2.0534e-07,\n",
      "         4.4489e-06,  9.2576e-06,  1.9287e-06,  7.1594e-08,  8.8110e-07,\n",
      "         1.3322e-05,  5.4542e-08,  1.4685e-05,  1.8147e-06,  9.8060e-07,\n",
      "         1.1813e-04,  2.9873e-05,  1.2773e-05,  1.8572e-07,  2.7114e-07,\n",
      "         4.6841e-07,  7.9549e-06,  3.1884e-06,  6.3433e-06,  5.9873e-05,\n",
      "         9.7126e-05,  1.2310e-05,  1.1341e-06,  3.4151e-05,  2.3533e-07,\n",
      "         6.5556e-06,  2.2439e-06,  2.0610e-02,  9.0674e-01,  6.4388e-05,\n",
      "         9.3837e-04,  3.9275e-02,  8.6753e-04,  3.7590e-06,  5.9685e-07,\n",
      "         3.2969e-06,  1.0906e-05,  6.0252e-06,  2.8126e-05,  1.3922e-02,\n",
      "         6.7646e-05,  7.1002e-05,  1.2973e-04,  3.0676e-07,  6.8784e-07,\n",
      "         1.3357e-05,  2.3129e-06,  2.8538e-04,  1.3200e-07,  1.4393e-06,\n",
      "         9.6340e-08,  4.5930e-08,  3.7482e-07,  1.0320e-05,  1.2532e-06,\n",
      "         1.8437e-06,  9.4289e-07,  1.5134e-07,  3.9727e-05,  2.5194e-06,\n",
      "         8.4554e-06,  7.1018e-07,  1.7348e-08,  3.0605e-08,  8.2322e-07,\n",
      "         1.1181e-07,  1.6181e-06,  4.6354e-06,  1.4455e-07,  1.4793e-05,\n",
      "         1.0321e-06,  3.7974e-05,  1.7981e-06,  2.1175e-06,  2.3191e-07,\n",
      "         2.1946e-06,  3.2567e-04,  1.1746e-05,  9.7998e-08,  6.9177e-07,\n",
      "         5.2104e-08,  9.0866e-07,  5.0299e-08,  2.7620e-08,  4.3960e-08,\n",
      "         2.0123e-08,  1.0668e-08,  1.2195e-07,  1.3121e-07,  2.0509e-08,\n",
      "         1.1406e-08,  2.7810e-08,  6.6188e-08,  1.9852e-08,  1.2322e-07,\n",
      "         1.8779e-07,  2.3635e-06,  4.3744e-07,  1.7726e-07,  2.6287e-07,\n",
      "         2.0617e-08,  3.0461e-08,  5.5108e-08,  3.8432e-08,  3.7317e-09,\n",
      "         3.2436e-09,  4.5736e-08,  2.2133e-08,  4.8349e-08,  1.4694e-08,\n",
      "         1.2835e-08,  1.1620e-08,  9.9972e-08,  1.6294e-08,  9.6144e-09,\n",
      "         2.1634e-08,  4.1418e-08,  1.5409e-07,  2.5702e-09,  1.2028e-08,\n",
      "         3.3199e-09,  9.2984e-10,  1.0733e-07,  6.4273e-07,  7.3572e-07,\n",
      "         2.1037e-06,  6.4751e-05,  7.1348e-06,  1.8549e-05,  7.3690e-07,\n",
      "         5.0317e-05,  5.8158e-06,  2.0509e-06,  6.0200e-06,  2.3372e-06,\n",
      "         2.6998e-06,  1.4061e-05,  7.4275e-06,  3.6887e-06,  1.1302e-06,\n",
      "         4.1001e-07,  7.1313e-08,  6.9372e-08,  2.7803e-08,  5.8429e-08,\n",
      "         1.0103e-07,  4.7159e-08,  8.9500e-08,  5.3801e-08,  2.6444e-07,\n",
      "         1.2334e-07,  4.2559e-07,  2.0460e-07,  1.2573e-07,  1.2463e-08,\n",
      "         3.2702e-07,  3.0445e-07,  1.3030e-07,  2.4392e-07,  2.0866e-07,\n",
      "         5.4689e-08,  7.3714e-08,  5.7281e-08,  4.6039e-08,  8.9199e-07,\n",
      "         3.9206e-07,  1.2771e-07,  2.2199e-08,  6.0827e-09,  3.3805e-08,\n",
      "         2.3517e-05,  1.1118e-06,  8.5954e-10,  3.4073e-08,  2.1409e-06,\n",
      "         7.5796e-08,  5.1777e-07,  7.1429e-09,  2.9239e-09,  1.0846e-06,\n",
      "         1.0351e-06,  1.1631e-08,  3.2048e-08,  2.2158e-06,  6.8659e-07,\n",
      "         7.0825e-08,  8.6344e-07,  9.6374e-07,  2.1836e-08,  1.9464e-08,\n",
      "         3.1975e-08,  2.9937e-07,  5.0854e-07,  5.8383e-07,  7.9612e-07,\n",
      "         3.5886e-07,  6.6614e-08,  1.7761e-06,  9.1491e-07,  2.4438e-07,\n",
      "         1.1440e-07,  9.3835e-08,  7.8204e-07,  9.7591e-08,  2.0814e-07,\n",
      "         2.0385e-06,  1.6269e-06,  1.1493e-05,  4.8827e-07,  2.2900e-07,\n",
      "         1.0955e-08,  6.2982e-07,  7.6856e-07,  1.8399e-06,  7.5958e-07,\n",
      "         9.4900e-08,  1.3126e-06,  5.7150e-07,  6.2845e-07,  9.2359e-07,\n",
      "         3.7955e-06,  6.8831e-07,  5.8391e-07,  1.4146e-07,  6.0609e-07,\n",
      "         5.8814e-08,  2.2828e-07,  2.2206e-07,  2.2933e-08,  2.3570e-07,\n",
      "         4.6987e-07,  1.8089e-07,  1.2721e-07,  2.4285e-08,  1.7006e-07,\n",
      "         1.0689e-07,  3.4038e-07,  9.4300e-08,  1.9424e-07,  1.0349e-07,\n",
      "         1.6815e-07,  8.9471e-07,  8.0139e-07,  4.9285e-07,  6.6822e-07,\n",
      "         9.1503e-08,  4.7298e-07,  1.6938e-07,  1.4662e-05,  1.5300e-06,\n",
      "         6.6081e-06,  1.0522e-07,  1.3825e-07,  6.3200e-07,  4.4213e-06,\n",
      "         2.8911e-07,  8.1858e-07,  2.7811e-07,  1.5644e-07,  5.6414e-08,\n",
      "         1.1312e-07,  7.8203e-08,  2.8905e-07,  5.2252e-08,  7.4901e-07,\n",
      "         2.2006e-06,  1.6644e-07,  2.0086e-07,  1.4456e-07,  4.0379e-08,\n",
      "         2.3536e-07,  1.2159e-07,  4.2174e-07,  3.4747e-07,  1.1640e-07,\n",
      "         6.4304e-07,  1.9833e-07,  5.4053e-07,  1.0179e-06,  6.9797e-08,\n",
      "         5.9114e-07,  1.0085e-07,  8.4081e-08,  1.0743e-07,  5.0099e-07,\n",
      "         3.9628e-09,  2.7945e-07,  8.6220e-07,  1.9605e-07,  2.5234e-07,\n",
      "         4.7098e-07,  1.3152e-06,  7.2945e-05,  2.7622e-07,  3.6812e-08,\n",
      "         5.8468e-08,  2.8316e-07,  3.4982e-07,  2.7697e-07,  2.3593e-07,\n",
      "         2.3555e-06,  6.0345e-07,  2.1657e-07,  1.9007e-07,  9.1719e-07,\n",
      "         5.0863e-08,  3.4978e-07,  5.7092e-08,  1.3995e-06,  2.1825e-07,\n",
      "         4.6528e-08,  1.1725e-07,  1.3690e-07,  3.0696e-07,  8.2135e-08,\n",
      "         1.2517e-06,  2.8647e-06,  2.4834e-07,  4.4003e-08,  4.6584e-06,\n",
      "         1.0009e-06,  2.8863e-08,  8.9983e-07,  4.8767e-08,  4.3861e-05,\n",
      "         7.4132e-08,  1.0581e-06,  1.1178e-06,  1.3307e-05,  2.2034e-06,\n",
      "         5.9896e-07,  1.1302e-06,  1.2896e-08,  5.2000e-07,  1.9240e-07,\n",
      "         7.8164e-08,  2.0517e-07,  2.5765e-07,  1.2835e-06,  3.5305e-07,\n",
      "         3.4703e-07,  8.2996e-06,  3.8129e-07,  4.0094e-08,  2.5716e-06,\n",
      "         6.2418e-08,  1.6197e-07,  1.4283e-06,  4.2064e-08,  2.5341e-07,\n",
      "         3.4860e-08,  3.8822e-07,  3.8359e-07,  2.7558e-07,  3.7833e-07,\n",
      "         8.9848e-07,  1.4959e-06,  5.3579e-07,  2.7717e-08,  5.0026e-07,\n",
      "         1.6904e-07,  1.5122e-07,  5.2129e-07,  1.7590e-06,  9.6737e-07,\n",
      "         1.8047e-07,  1.0157e-07,  1.0019e-07,  7.0442e-07,  4.3620e-07,\n",
      "         8.3128e-08,  8.3398e-07,  5.6895e-07,  1.8072e-06,  1.2916e-06,\n",
      "         8.9381e-07,  7.1081e-08,  3.3713e-08,  9.9820e-08,  1.0221e-07,\n",
      "         5.0165e-08,  4.1370e-07,  9.4197e-08,  2.9253e-07,  3.5452e-07,\n",
      "         2.7745e-06,  3.6931e-07,  1.8241e-07,  1.5622e-06,  1.8405e-07,\n",
      "         1.2200e-07,  3.1978e-07,  1.2129e-06,  4.0037e-07,  2.0467e-06,\n",
      "         3.3318e-06,  4.4071e-08,  5.6856e-07,  1.2273e-07,  8.2014e-08,\n",
      "         1.5508e-07,  7.7511e-07,  1.5612e-07,  1.0473e-06,  9.4158e-07,\n",
      "         5.2041e-07,  4.8250e-07,  1.4964e-07,  4.8912e-07,  6.7156e-08,\n",
      "         5.5177e-08,  1.5555e-07,  1.7025e-06,  2.1626e-08,  1.2240e-07,\n",
      "         5.0197e-07,  3.3055e-07,  9.2825e-07,  1.4490e-07,  1.1291e-07,\n",
      "         2.3523e-07,  7.9315e-07,  1.1250e-06,  9.4921e-07,  3.5361e-06,\n",
      "         7.7529e-08,  2.2165e-07,  1.0787e-07,  9.1655e-07,  1.7326e-06,\n",
      "         4.9649e-08,  1.6989e-07,  2.4748e-07,  2.5011e-07,  3.0538e-09,\n",
      "         3.8446e-07,  8.6009e-07,  6.8435e-07,  1.1961e-06,  1.2078e-06,\n",
      "         5.4732e-07,  7.4041e-07,  9.7949e-08,  6.0898e-08,  1.5529e-07,\n",
      "         2.1963e-07,  2.2982e-07,  2.2211e-07,  3.7780e-07,  6.9736e-07,\n",
      "         6.8995e-08,  8.2775e-07,  1.7761e-08,  2.6647e-07,  2.3112e-07,\n",
      "         2.4363e-07,  4.7591e-08,  1.3151e-07,  1.6682e-07,  3.0953e-07,\n",
      "         6.7879e-07,  4.0560e-04,  1.4826e-07,  1.8302e-06,  6.4138e-08,\n",
      "         7.7434e-08,  8.3577e-07,  4.7830e-08,  2.7490e-07,  2.0768e-08,\n",
      "         1.3956e-07,  1.2491e-06,  7.0701e-07,  1.2265e-07,  2.0103e-07,\n",
      "         2.4849e-05,  5.9642e-07,  1.0689e-07,  3.9350e-07,  2.6281e-07,\n",
      "         1.3851e-07,  9.9477e-08,  1.3501e-07,  8.3078e-07,  2.4979e-07,\n",
      "         2.7225e-06,  2.8138e-07,  2.6436e-07,  1.9835e-07,  2.1154e-07,\n",
      "         3.8693e-08,  5.4192e-08,  7.6646e-07,  4.7879e-06,  3.2882e-08,\n",
      "         2.3079e-07,  6.1183e-08,  1.5531e-07,  1.3636e-07,  1.1162e-06,\n",
      "         3.5614e-07,  1.6642e-07,  1.4835e-07,  1.7710e-07,  1.1733e-06,\n",
      "         2.2823e-07,  1.6154e-07,  8.9714e-07,  2.1131e-08,  1.8090e-07,\n",
      "         1.6658e-07,  2.1241e-07,  7.7735e-08,  1.1638e-06,  1.5929e-06,\n",
      "         1.2613e-06,  2.3179e-06,  1.6995e-07,  2.8639e-06,  1.4378e-06,\n",
      "         4.9422e-07,  5.5181e-07,  4.1704e-08,  1.7645e-06,  1.7119e-06,\n",
      "         9.5019e-07,  3.9294e-07,  2.7080e-07,  1.6623e-06,  2.4948e-07,\n",
      "         2.4551e-07,  7.3075e-07,  2.8154e-07,  1.5386e-07,  1.7358e-07,\n",
      "         8.9338e-07,  5.3043e-08,  1.9963e-07,  4.3989e-06,  4.5225e-07,\n",
      "         6.4947e-08,  1.5232e-06,  3.3540e-07,  2.4778e-06,  2.5563e-07,\n",
      "         1.0542e-06,  7.4106e-07,  4.9455e-08,  1.1995e-06,  4.2446e-07,\n",
      "         4.3662e-07,  1.8506e-06,  5.9855e-08,  1.1337e-07,  1.6576e-07,\n",
      "         2.7353e-07,  7.2385e-06,  7.1620e-08,  1.3640e-07,  5.8952e-07,\n",
      "         4.4881e-07,  2.1458e-07,  6.5991e-07,  8.8233e-08,  1.8746e-07,\n",
      "         3.9261e-07,  1.7179e-07,  8.2303e-07,  6.5418e-07,  8.1182e-07,\n",
      "         6.1208e-06,  1.2817e-07,  4.9983e-07,  1.7307e-07,  1.0833e-06,\n",
      "         3.3940e-07,  7.1710e-07,  4.4310e-06,  3.4690e-06,  5.4619e-07,\n",
      "         3.9876e-08,  3.7729e-07,  2.9574e-07,  1.3404e-07,  8.2171e-07,\n",
      "         1.7560e-07,  7.8088e-08,  1.4582e-08,  7.1214e-08,  5.5980e-07,\n",
      "         5.4489e-06,  1.2749e-07,  2.9470e-07,  2.0841e-06,  2.6524e-08,\n",
      "         6.4417e-07,  1.2965e-05,  1.5998e-07,  1.9449e-06,  5.4710e-08,\n",
      "         4.7449e-08,  7.6805e-08,  6.8221e-08,  1.4181e-06,  8.1440e-07,\n",
      "         3.4130e-08,  2.3411e-08,  1.3954e-06,  4.4782e-08,  1.8169e-07,\n",
      "         7.6733e-08,  4.6894e-07,  9.5219e-06,  2.4580e-06,  3.8854e-08,\n",
      "         5.6367e-07,  4.2129e-07,  1.7306e-07,  3.3780e-08,  1.0344e-06,\n",
      "         2.7721e-07,  3.2825e-07,  2.7226e-07,  3.0699e-07,  1.5434e-08,\n",
      "         3.6322e-07,  2.9441e-06,  1.3912e-07,  4.9026e-08,  4.3025e-06,\n",
      "         2.1243e-07,  1.4298e-06,  3.0426e-07,  5.6090e-07,  2.1845e-08,\n",
      "         1.1857e-08,  7.2937e-07,  2.4452e-05,  1.2377e-07,  1.8471e-07,\n",
      "         1.8538e-07,  7.8269e-08,  6.4023e-07,  1.1621e-07,  4.4868e-07,\n",
      "         2.5928e-07,  3.4438e-06,  9.3980e-08,  2.1849e-08,  2.2347e-07,\n",
      "         1.0334e-07,  2.8289e-07,  2.6563e-07,  8.3790e-07,  2.3937e-06,\n",
      "         5.4619e-08,  2.9960e-08,  8.5055e-07,  1.5786e-07,  3.2293e-08,\n",
      "         1.8742e-06,  7.9972e-06,  3.9171e-08,  5.9760e-07,  2.2757e-07,\n",
      "         1.4513e-07,  1.9111e-06,  2.5056e-07,  4.5427e-07,  2.0731e-06,\n",
      "         7.5457e-07,  8.9821e-08,  1.3282e-07,  4.0078e-08,  2.4366e-07,\n",
      "         3.3773e-08,  1.5742e-06,  6.4248e-07,  1.8258e-08,  2.7289e-07,\n",
      "         2.6869e-08,  1.0707e-06,  2.8996e-06,  2.4160e-07,  4.6146e-07,\n",
      "         9.4986e-08,  7.8190e-07,  7.1666e-07,  1.4110e-07,  2.7685e-06,\n",
      "         3.9992e-07,  1.6078e-07,  1.7582e-07,  3.1261e-09,  1.6014e-07,\n",
      "         1.0551e-06,  8.4694e-08,  2.7592e-06,  1.0162e-07,  4.1839e-08,\n",
      "         1.6799e-07,  5.3925e-07,  2.0095e-07,  3.1523e-07,  1.6273e-07,\n",
      "         2.4289e-07,  5.5783e-07,  1.2566e-08,  1.5219e-07,  1.7691e-08,\n",
      "         4.0081e-08,  3.7300e-08,  5.0082e-08,  7.0683e-08,  5.5910e-07,\n",
      "         3.2484e-07,  2.8316e-08,  8.0810e-08,  7.2222e-09,  7.8313e-08,\n",
      "         3.0730e-08,  2.5677e-07,  4.3882e-08,  3.3752e-08,  2.7362e-07,\n",
      "         2.5714e-07,  1.0096e-06,  7.8801e-07,  8.7304e-08,  5.8421e-07,\n",
      "         1.0464e-06,  5.0957e-07,  7.8638e-08,  3.2567e-07,  5.6434e-08,\n",
      "         2.0861e-08,  8.5110e-08,  4.0482e-08,  1.1684e-08,  2.4073e-08,\n",
      "         3.0904e-08,  8.0951e-07,  4.1019e-07,  1.6012e-08,  8.5539e-08,\n",
      "         8.4709e-08,  8.5639e-07,  2.5601e-08,  3.6928e-08,  7.2651e-08,\n",
      "         7.3433e-08,  1.0688e-07,  7.8884e-08,  3.9145e-07,  1.5770e-07,\n",
      "         1.4724e-08,  5.5264e-07,  6.2850e-08,  7.2476e-09,  9.5585e-08,\n",
      "         8.9654e-07,  3.7242e-08,  4.6013e-07,  1.9512e-07,  4.9705e-08,\n",
      "         7.2071e-08,  8.5563e-07,  9.8500e-07,  9.4567e-09,  7.7759e-08,\n",
      "         3.0750e-08,  1.8782e-08,  2.4817e-07,  7.5840e-09,  5.0109e-08,\n",
      "         1.1496e-08,  1.2242e-08,  2.4675e-08,  2.8136e-08,  9.0987e-08,\n",
      "         2.2522e-07,  1.2789e-07,  8.0691e-09,  3.5849e-07,  3.1419e-06], device='cuda:0')\n"
     ]
    }
   ],
   "source": [
    "# Tensor of shape 1000, with confidence scores over ImageNet's 1000 classes\n",
    "output[0]\n",
    "# Run softmax to get the probabilities from unnormalized scores\n",
    "torch.nn.functional.softmax(output[0], dim=0)"
   ]
  },
  {
   "cell_type": "code",
   "execution_count": 166,
   "metadata": {
    "scrolled": true
   },
   "outputs": [
    {
     "name": "stdout",
     "output_type": "stream",
     "text": [
      "tensor(243, device='cuda:0')\n"
     ]
    }
   ],
   "source": [
    "print(output.data.argmax())"
   ]
  },
  {
   "cell_type": "markdown",
   "metadata": {},
   "source": [
    "Convert from index to labels using class idx to labels mapping: https://gist.github.com/yrevar/942d3a0ac09ec9e5eb3a\n",
    "\n",
    "Prediction: 243: 'bull mastiff'\n",
    "\n",
    "Actual: Mastiff, from path '/data/dog_images/train/103.Mastiff/Mastiff_06826.jpg'"
   ]
  },
  {
   "cell_type": "markdown",
   "metadata": {},
   "source": [
    "## Implement Transfer Learning with ResNet18"
   ]
  },
  {
   "cell_type": "markdown",
   "metadata": {},
   "source": [
    "### Imports"
   ]
  },
  {
   "cell_type": "code",
   "execution_count": 21,
   "metadata": {},
   "outputs": [],
   "source": [
    "import torch\n",
    "import torch.nn as nn\n",
    "import torch.optim as optim\n",
    "import numpy as np\n",
    "import torchvision.models as models\n",
    "from collections import OrderedDict\n",
    "from PIL import Image\n",
    "from PIL import ImageFile\n",
    "from torchvision import datasets, transforms\n",
    "\n",
    "ImageFile.LOAD_TRUNCATED_IMAGES = True"
   ]
  },
  {
   "cell_type": "markdown",
   "metadata": {},
   "source": [
    "### Load Data\n"
   ]
  },
  {
   "cell_type": "code",
   "execution_count": 22,
   "metadata": {},
   "outputs": [],
   "source": [
    "def load_data(data_dir, options=None):\n",
    "    '''\n",
    "    Create training, validation and test data loaders\n",
    "    \n",
    "    Args:\n",
    "        data_dir: path to data directory\n",
    "    \n",
    "    Returns:\n",
    "        A dictionary of data loaders\n",
    "    '''\n",
    "    \n",
    "    batch_size = options['batch_size'] or 10\n",
    "    shuffle = options['shuffle'] or False\n",
    "    \n",
    "    train_dir = data_dir + '/train'\n",
    "    valid_dir = data_dir + '/valid'\n",
    "    test_dir = data_dir + '/test'\n",
    "    \n",
    "    data_transforms = {\n",
    "        'train': transforms.Compose([\n",
    "            transforms.Resize(256),\n",
    "            transforms.CenterCrop(224),\n",
    "            transforms.ToTensor(),\n",
    "            transforms.Normalize(mean=[0.485, 0.456, 0.406], std=[0.229, 0.224, 0.225])\n",
    "        ]),\n",
    "        'valid': transforms.Compose([\n",
    "            transforms.Resize(256),\n",
    "            transforms.CenterCrop(224),\n",
    "            transforms.ToTensor(),\n",
    "            transforms.Normalize(mean=[0.485, 0.456, 0.406], std=[0.229, 0.224, 0.225])\n",
    "        ]),\n",
    "        'test': transforms.Compose([\n",
    "            transforms.Resize(256),\n",
    "            transforms.CenterCrop(224),\n",
    "            transforms.ToTensor(),\n",
    "            transforms.Normalize(mean=[0.485, 0.456, 0.406], std=[0.229, 0.224, 0.225])\n",
    "        ])\n",
    "    }\n",
    "    \n",
    "    dirs = {\n",
    "        'train': train_dir,\n",
    "        'valid': valid_dir,\n",
    "        'test': test_dir\n",
    "    }\n",
    "    \n",
    "    image_datasets = {\n",
    "        x: datasets.ImageFolder(dirs[x], transform=data_transforms[x]) for x in ['train', 'valid', 'test']\n",
    "    }\n",
    "    \n",
    "    data_loaders = {\n",
    "        x: torch.utils.data.DataLoader(image_datasets[x], batch_size, shuffle) for x in ['train', 'valid', 'test'] \n",
    "    }\n",
    "\n",
    "    return data_loaders\n",
    "\n"
   ]
  },
  {
   "cell_type": "code",
   "execution_count": 23,
   "metadata": {},
   "outputs": [
    {
     "data": {
      "text/plain": [
       "{'train': <torch.utils.data.dataloader.DataLoader at 0x7f68b81ca470>,\n",
       " 'valid': <torch.utils.data.dataloader.DataLoader at 0x7f68b81caa58>,\n",
       " 'test': <torch.utils.data.dataloader.DataLoader at 0x7f68b81ca8d0>}"
      ]
     },
     "execution_count": 23,
     "metadata": {},
     "output_type": "execute_result"
    }
   ],
   "source": [
    "data_dir = '/data/dog_images'\n",
    "\n",
    "options = {\n",
    "    'batch_size': 64,\n",
    "    'shuffle': True\n",
    "}\n",
    "\n",
    "loaders_transfer = load_data(data_dir, options)\n",
    "loaders_transfer"
   ]
  },
  {
   "cell_type": "markdown",
   "metadata": {},
   "source": [
    "### Implement Model Architecture"
   ]
  },
  {
   "cell_type": "markdown",
   "metadata": {},
   "source": [
    "Transfer Learning - Fixed Feature Extraction: \n",
    "    * Replace final layer of the network\n",
    "    * Optimize only the weights of the final layer"
   ]
  },
  {
   "cell_type": "code",
   "execution_count": 24,
   "metadata": {},
   "outputs": [
    {
     "name": "stderr",
     "output_type": "stream",
     "text": [
      "Downloading: \"https://download.pytorch.org/models/resnet18-5c106cde.pth\" to /root/.torch/models/resnet18-5c106cde.pth\n",
      "100%|██████████| 46827520/46827520 [00:03<00:00, 14383574.06it/s]\n"
     ]
    },
    {
     "name": "stdout",
     "output_type": "stream",
     "text": [
      "512\n",
      "Linear(in_features=512, out_features=133, bias=True)\n"
     ]
    }
   ],
   "source": [
    "# Model Architecture\n",
    "\n",
    "# define ResNet18 model\n",
    "model_transfer = models.resnet18(pretrained=True)\n",
    "\n",
    "for param in model_transfer.parameters():\n",
    "    param.required_grad = False\n",
    "    \n",
    "num_features = model_transfer.fc.in_features\n",
    "print(num_features)\n",
    "\n",
    "model_transfer.fc = nn.Linear(num_features, 133)\n",
    "print(model_transfer.fc)"
   ]
  },
  {
   "cell_type": "code",
   "execution_count": 25,
   "metadata": {},
   "outputs": [],
   "source": [
    "# check if CUDA is available\n",
    "use_cuda = torch.cuda.is_available()"
   ]
  },
  {
   "cell_type": "code",
   "execution_count": 26,
   "metadata": {},
   "outputs": [],
   "source": [
    "# move model to GPU if CUDA is available\n",
    "if use_cuda:\n",
    "    model_transfer = model_transfer.cuda()"
   ]
  },
  {
   "cell_type": "markdown",
   "metadata": {},
   "source": [
    "__Question 5:__ Outline the steps you took to get to your final CNN architecture and your reasoning at each step.  Describe why you think the architecture is suitable for the current problem."
   ]
  },
  {
   "cell_type": "markdown",
   "metadata": {},
   "source": [
    "__Answer:__ \n"
   ]
  },
  {
   "cell_type": "markdown",
   "metadata": {},
   "source": [
    "### (IMPLEMENTATION) Specify Loss Function and Optimizer\n",
    "\n",
    "Use the next code cell to specify a [loss function](http://pytorch.org/docs/master/nn.html#loss-functions) and [optimizer](http://pytorch.org/docs/master/optim.html).  Save the chosen loss function as `criterion_transfer`, and the optimizer as `optimizer_transfer` below."
   ]
  },
  {
   "cell_type": "code",
   "execution_count": 27,
   "metadata": {},
   "outputs": [],
   "source": [
    "criterion_transfer = nn.CrossEntropyLoss()\n",
    "optimizer_transfer = optim.SGD(model_transfer.fc.parameters(), lr=0.001, momentum=0.9)"
   ]
  },
  {
   "cell_type": "markdown",
   "metadata": {},
   "source": [
    "### (IMPLEMENTATION) Train and Validate the Model\n",
    "\n",
    "Train and validate your model in the code cell below.  [Save the final model parameters](http://pytorch.org/docs/master/notes/serialization.html) at filepath `'model_transfer.pt'`."
   ]
  },
  {
   "cell_type": "code",
   "execution_count": 28,
   "metadata": {},
   "outputs": [],
   "source": [
    "def train(n_epochs, loaders, model, optimizer, criterion, use_cuda, save_path):\n",
    "    \"\"\"returns trained model\"\"\"\n",
    "    # initialize tracker for minimum validation loss\n",
    "    valid_loss_min = np.Inf \n",
    "    \n",
    "    for epoch in range(1, n_epochs+1):\n",
    "        # initialize variables to monitor training and validation loss\n",
    "        train_loss = 0.0\n",
    "        valid_loss = 0.0\n",
    "        \n",
    "        ###################\n",
    "        # train the model #\n",
    "        ###################\n",
    "        \n",
    "        model.train()\n",
    "        \n",
    "        for batch_idx, (data, target) in enumerate(loaders['train']):\n",
    "            # move to GPU\n",
    "            if use_cuda:\n",
    "                data, target = data.cuda(), target.cuda()\n",
    "            ## find the loss and update the model parameters accordingly\n",
    "            ## record the average training loss, using something like\n",
    "            ## train_loss = train_loss + ((1 / (batch_idx + 1)) * (loss.data - train_loss))\n",
    "            \n",
    "            # zero the parameter gradients\n",
    "            optimizer.zero_grad()\n",
    "            \n",
    "            # forward pass and get the output probabilities\n",
    "            outputs = model(data)\n",
    "            \n",
    "            # get the loss \n",
    "            loss = criterion(outputs, target)\n",
    "            \n",
    "            # back propagation: backward pass to get the gradient\n",
    "            # whole graph differentiated with respect to the loss\n",
    "            # http://seba1511.net/tutorials/beginner/blitz/neural_networks_tutorial.html#backprop\n",
    "            loss.backward()\n",
    "\n",
    "            # adjust each parameter weight\n",
    "            optimizer.step()\n",
    "            \n",
    "            # accumulate the training loss\n",
    "            # multiple the loss by the total number images per batch (data.size(0))\n",
    "            # to get the total loss\n",
    "            train_loss += loss.item() * data.size(0)\n",
    "            \n",
    "        ######################    \n",
    "        # validate the model #\n",
    "        ######################\n",
    "        \n",
    "        model.eval()\n",
    "\n",
    "        for batch_idx, (data, target) in enumerate(loaders['valid']):\n",
    "            # move to GPU\n",
    "            if use_cuda:\n",
    "                data, target = data.cuda(), target.cuda()\n",
    "            \n",
    "            optimizer.zero_grad()\n",
    "            outputs = model(data)\n",
    "            loss = criterion(outputs, target)\n",
    "            loss.backward()\n",
    "            optimizer.step()\n",
    "\n",
    "            ## update the average validation loss\n",
    "            valid_loss += loss.item() * data.size(0) \n",
    "        \n",
    "        # compute average loss for training phase\n",
    "        train_loss = train_loss / len(loaders['train'].dataset)\n",
    "        \n",
    "        # compute average loss for validation phase\n",
    "        valid_loss = valid_loss / len(loaders['valid'].dataset)\n",
    "        \n",
    "        # print training/validation statistics \n",
    "        print('Epoch: {} \\tTraining Loss: {:.6f} \\tValidation Loss: {:.6f}'.format(\n",
    "            epoch, \n",
    "            train_loss,\n",
    "            valid_loss\n",
    "            ))\n",
    "\n",
    "        ## TODO: DONE: save the model if validation loss has decreased\n",
    "        if valid_loss < valid_loss_min:\n",
    "            print('Validation loss decreased from {:.6f} to {:.6f}'.format(valid_loss_min, valid_loss))\n",
    "            torch.save(model.state_dict(), save_path)\n",
    "            valid_loss_min = valid_loss\n",
    "            print('Model Saved')\n",
    "\n",
    "    # return trained model\n",
    "    return model"
   ]
  },
  {
   "cell_type": "code",
   "execution_count": 29,
   "metadata": {},
   "outputs": [
    {
     "data": {
      "text/plain": [
       "ResNet(\n",
       "  (conv1): Conv2d(3, 64, kernel_size=(7, 7), stride=(2, 2), padding=(3, 3), bias=False)\n",
       "  (bn1): BatchNorm2d(64, eps=1e-05, momentum=0.1, affine=True, track_running_stats=True)\n",
       "  (relu): ReLU(inplace)\n",
       "  (maxpool): MaxPool2d(kernel_size=3, stride=2, padding=1, dilation=1, ceil_mode=False)\n",
       "  (layer1): Sequential(\n",
       "    (0): BasicBlock(\n",
       "      (conv1): Conv2d(64, 64, kernel_size=(3, 3), stride=(1, 1), padding=(1, 1), bias=False)\n",
       "      (bn1): BatchNorm2d(64, eps=1e-05, momentum=0.1, affine=True, track_running_stats=True)\n",
       "      (relu): ReLU(inplace)\n",
       "      (conv2): Conv2d(64, 64, kernel_size=(3, 3), stride=(1, 1), padding=(1, 1), bias=False)\n",
       "      (bn2): BatchNorm2d(64, eps=1e-05, momentum=0.1, affine=True, track_running_stats=True)\n",
       "    )\n",
       "    (1): BasicBlock(\n",
       "      (conv1): Conv2d(64, 64, kernel_size=(3, 3), stride=(1, 1), padding=(1, 1), bias=False)\n",
       "      (bn1): BatchNorm2d(64, eps=1e-05, momentum=0.1, affine=True, track_running_stats=True)\n",
       "      (relu): ReLU(inplace)\n",
       "      (conv2): Conv2d(64, 64, kernel_size=(3, 3), stride=(1, 1), padding=(1, 1), bias=False)\n",
       "      (bn2): BatchNorm2d(64, eps=1e-05, momentum=0.1, affine=True, track_running_stats=True)\n",
       "    )\n",
       "  )\n",
       "  (layer2): Sequential(\n",
       "    (0): BasicBlock(\n",
       "      (conv1): Conv2d(64, 128, kernel_size=(3, 3), stride=(2, 2), padding=(1, 1), bias=False)\n",
       "      (bn1): BatchNorm2d(128, eps=1e-05, momentum=0.1, affine=True, track_running_stats=True)\n",
       "      (relu): ReLU(inplace)\n",
       "      (conv2): Conv2d(128, 128, kernel_size=(3, 3), stride=(1, 1), padding=(1, 1), bias=False)\n",
       "      (bn2): BatchNorm2d(128, eps=1e-05, momentum=0.1, affine=True, track_running_stats=True)\n",
       "      (downsample): Sequential(\n",
       "        (0): Conv2d(64, 128, kernel_size=(1, 1), stride=(2, 2), bias=False)\n",
       "        (1): BatchNorm2d(128, eps=1e-05, momentum=0.1, affine=True, track_running_stats=True)\n",
       "      )\n",
       "    )\n",
       "    (1): BasicBlock(\n",
       "      (conv1): Conv2d(128, 128, kernel_size=(3, 3), stride=(1, 1), padding=(1, 1), bias=False)\n",
       "      (bn1): BatchNorm2d(128, eps=1e-05, momentum=0.1, affine=True, track_running_stats=True)\n",
       "      (relu): ReLU(inplace)\n",
       "      (conv2): Conv2d(128, 128, kernel_size=(3, 3), stride=(1, 1), padding=(1, 1), bias=False)\n",
       "      (bn2): BatchNorm2d(128, eps=1e-05, momentum=0.1, affine=True, track_running_stats=True)\n",
       "    )\n",
       "  )\n",
       "  (layer3): Sequential(\n",
       "    (0): BasicBlock(\n",
       "      (conv1): Conv2d(128, 256, kernel_size=(3, 3), stride=(2, 2), padding=(1, 1), bias=False)\n",
       "      (bn1): BatchNorm2d(256, eps=1e-05, momentum=0.1, affine=True, track_running_stats=True)\n",
       "      (relu): ReLU(inplace)\n",
       "      (conv2): Conv2d(256, 256, kernel_size=(3, 3), stride=(1, 1), padding=(1, 1), bias=False)\n",
       "      (bn2): BatchNorm2d(256, eps=1e-05, momentum=0.1, affine=True, track_running_stats=True)\n",
       "      (downsample): Sequential(\n",
       "        (0): Conv2d(128, 256, kernel_size=(1, 1), stride=(2, 2), bias=False)\n",
       "        (1): BatchNorm2d(256, eps=1e-05, momentum=0.1, affine=True, track_running_stats=True)\n",
       "      )\n",
       "    )\n",
       "    (1): BasicBlock(\n",
       "      (conv1): Conv2d(256, 256, kernel_size=(3, 3), stride=(1, 1), padding=(1, 1), bias=False)\n",
       "      (bn1): BatchNorm2d(256, eps=1e-05, momentum=0.1, affine=True, track_running_stats=True)\n",
       "      (relu): ReLU(inplace)\n",
       "      (conv2): Conv2d(256, 256, kernel_size=(3, 3), stride=(1, 1), padding=(1, 1), bias=False)\n",
       "      (bn2): BatchNorm2d(256, eps=1e-05, momentum=0.1, affine=True, track_running_stats=True)\n",
       "    )\n",
       "  )\n",
       "  (layer4): Sequential(\n",
       "    (0): BasicBlock(\n",
       "      (conv1): Conv2d(256, 512, kernel_size=(3, 3), stride=(2, 2), padding=(1, 1), bias=False)\n",
       "      (bn1): BatchNorm2d(512, eps=1e-05, momentum=0.1, affine=True, track_running_stats=True)\n",
       "      (relu): ReLU(inplace)\n",
       "      (conv2): Conv2d(512, 512, kernel_size=(3, 3), stride=(1, 1), padding=(1, 1), bias=False)\n",
       "      (bn2): BatchNorm2d(512, eps=1e-05, momentum=0.1, affine=True, track_running_stats=True)\n",
       "      (downsample): Sequential(\n",
       "        (0): Conv2d(256, 512, kernel_size=(1, 1), stride=(2, 2), bias=False)\n",
       "        (1): BatchNorm2d(512, eps=1e-05, momentum=0.1, affine=True, track_running_stats=True)\n",
       "      )\n",
       "    )\n",
       "    (1): BasicBlock(\n",
       "      (conv1): Conv2d(512, 512, kernel_size=(3, 3), stride=(1, 1), padding=(1, 1), bias=False)\n",
       "      (bn1): BatchNorm2d(512, eps=1e-05, momentum=0.1, affine=True, track_running_stats=True)\n",
       "      (relu): ReLU(inplace)\n",
       "      (conv2): Conv2d(512, 512, kernel_size=(3, 3), stride=(1, 1), padding=(1, 1), bias=False)\n",
       "      (bn2): BatchNorm2d(512, eps=1e-05, momentum=0.1, affine=True, track_running_stats=True)\n",
       "    )\n",
       "  )\n",
       "  (avgpool): AvgPool2d(kernel_size=7, stride=1, padding=0)\n",
       "  (fc): Linear(in_features=512, out_features=133, bias=True)\n",
       ")"
      ]
     },
     "execution_count": 29,
     "metadata": {},
     "output_type": "execute_result"
    }
   ],
   "source": [
    "model_transfer"
   ]
  },
  {
   "cell_type": "code",
   "execution_count": 30,
   "metadata": {},
   "outputs": [],
   "source": [
    "# train the model\n",
    "n_epochs = 25"
   ]
  },
  {
   "cell_type": "code",
   "execution_count": 31,
   "metadata": {},
   "outputs": [
    {
     "name": "stdout",
     "output_type": "stream",
     "text": [
      "Epoch: 1 \tTraining Loss: 4.617218 \tValidation Loss: 4.095313\n",
      "Validation loss decreased from inf to 4.095313\n",
      "Model Saved\n",
      "Epoch: 2 \tTraining Loss: 3.686134 \tValidation Loss: 3.254329\n",
      "Validation loss decreased from 4.095313 to 3.254329\n",
      "Model Saved\n",
      "Epoch: 3 \tTraining Loss: 2.990813 \tValidation Loss: 2.646385\n",
      "Validation loss decreased from 3.254329 to 2.646385\n",
      "Model Saved\n",
      "Epoch: 4 \tTraining Loss: 2.481597 \tValidation Loss: 2.200310\n",
      "Validation loss decreased from 2.646385 to 2.200310\n",
      "Model Saved\n",
      "Epoch: 5 \tTraining Loss: 2.109931 \tValidation Loss: 1.884343\n",
      "Validation loss decreased from 2.200310 to 1.884343\n",
      "Model Saved\n",
      "Epoch: 6 \tTraining Loss: 1.836621 \tValidation Loss: 1.656469\n",
      "Validation loss decreased from 1.884343 to 1.656469\n",
      "Model Saved\n",
      "Epoch: 7 \tTraining Loss: 1.628007 \tValidation Loss: 1.468323\n",
      "Validation loss decreased from 1.656469 to 1.468323\n",
      "Model Saved\n",
      "Epoch: 8 \tTraining Loss: 1.469915 \tValidation Loss: 1.323910\n",
      "Validation loss decreased from 1.468323 to 1.323910\n",
      "Model Saved\n",
      "Epoch: 9 \tTraining Loss: 1.343887 \tValidation Loss: 1.221252\n",
      "Validation loss decreased from 1.323910 to 1.221252\n",
      "Model Saved\n",
      "Epoch: 10 \tTraining Loss: 1.239979 \tValidation Loss: 1.124698\n",
      "Validation loss decreased from 1.221252 to 1.124698\n",
      "Model Saved\n",
      "Epoch: 11 \tTraining Loss: 1.152217 \tValidation Loss: 1.037634\n",
      "Validation loss decreased from 1.124698 to 1.037634\n",
      "Model Saved\n",
      "Epoch: 12 \tTraining Loss: 1.079305 \tValidation Loss: 0.984542\n",
      "Validation loss decreased from 1.037634 to 0.984542\n",
      "Model Saved\n",
      "Epoch: 13 \tTraining Loss: 1.020076 \tValidation Loss: 0.923141\n",
      "Validation loss decreased from 0.984542 to 0.923141\n",
      "Model Saved\n",
      "Epoch: 14 \tTraining Loss: 0.961658 \tValidation Loss: 0.871694\n",
      "Validation loss decreased from 0.923141 to 0.871694\n",
      "Model Saved\n",
      "Epoch: 15 \tTraining Loss: 0.916081 \tValidation Loss: 0.835780\n",
      "Validation loss decreased from 0.871694 to 0.835780\n",
      "Model Saved\n",
      "Epoch: 16 \tTraining Loss: 0.871154 \tValidation Loss: 0.802258\n",
      "Validation loss decreased from 0.835780 to 0.802258\n",
      "Model Saved\n",
      "Epoch: 17 \tTraining Loss: 0.835267 \tValidation Loss: 0.765435\n",
      "Validation loss decreased from 0.802258 to 0.765435\n",
      "Model Saved\n",
      "Epoch: 18 \tTraining Loss: 0.800828 \tValidation Loss: 0.745334\n",
      "Validation loss decreased from 0.765435 to 0.745334\n",
      "Model Saved\n",
      "Epoch: 19 \tTraining Loss: 0.773959 \tValidation Loss: 0.709625\n",
      "Validation loss decreased from 0.745334 to 0.709625\n",
      "Model Saved\n",
      "Epoch: 20 \tTraining Loss: 0.746458 \tValidation Loss: 0.683634\n",
      "Validation loss decreased from 0.709625 to 0.683634\n",
      "Model Saved\n",
      "Epoch: 21 \tTraining Loss: 0.722227 \tValidation Loss: 0.658722\n",
      "Validation loss decreased from 0.683634 to 0.658722\n",
      "Model Saved\n",
      "Epoch: 22 \tTraining Loss: 0.698264 \tValidation Loss: 0.638512\n",
      "Validation loss decreased from 0.658722 to 0.638512\n",
      "Model Saved\n",
      "Epoch: 23 \tTraining Loss: 0.681949 \tValidation Loss: 0.626184\n",
      "Validation loss decreased from 0.638512 to 0.626184\n",
      "Model Saved\n",
      "Epoch: 24 \tTraining Loss: 0.659935 \tValidation Loss: 0.602741\n",
      "Validation loss decreased from 0.626184 to 0.602741\n",
      "Model Saved\n",
      "Epoch: 25 \tTraining Loss: 0.639790 \tValidation Loss: 0.586960\n",
      "Validation loss decreased from 0.602741 to 0.586960\n",
      "Model Saved\n"
     ]
    }
   ],
   "source": [
    "\n",
    "model_transfer = train(n_epochs, loaders_transfer, model_transfer, optimizer_transfer, criterion_transfer, use_cuda, 'model_transfer.pt')\n",
    "\n"
   ]
  },
  {
   "cell_type": "code",
   "execution_count": 32,
   "metadata": {},
   "outputs": [
    {
     "data": {
      "text/plain": [
       "tensor([[ 1.7255e-02,  2.7916e-02,  2.0098e-02,  ..., -6.0970e-03,\n",
       "         -1.0209e-02, -3.3888e-02],\n",
       "        [-2.9295e-02,  7.7276e-02,  1.5660e-03,  ..., -4.6524e-02,\n",
       "         -4.1145e-02, -4.9040e-02],\n",
       "        [-5.8084e-02, -1.9262e-02, -3.1241e-02,  ..., -5.9027e-02,\n",
       "         -1.6787e-02, -1.3937e-02],\n",
       "        ...,\n",
       "        [ 3.6091e-02, -2.7502e-02,  2.4414e-02,  ..., -2.8849e-02,\n",
       "          2.0399e-02, -1.1248e-02],\n",
       "        [-2.4358e-02,  3.8155e-03,  1.3138e-02,  ...,  2.5793e-02,\n",
       "         -6.4050e-02,  8.7419e-02],\n",
       "        [ 9.8414e-02,  9.0520e-03, -1.5402e-02,  ..., -3.2559e-02,\n",
       "         -5.4877e-02,  3.8871e-02]], device='cuda:0')"
      ]
     },
     "execution_count": 32,
     "metadata": {},
     "output_type": "execute_result"
    }
   ],
   "source": [
    "model_transfer.fc.weight.data"
   ]
  },
  {
   "cell_type": "code",
   "execution_count": 115,
   "metadata": {},
   "outputs": [
    {
     "name": "stdout",
     "output_type": "stream",
     "text": [
      "512\n",
      "Linear(in_features=512, out_features=133, bias=True)\n"
     ]
    }
   ],
   "source": [
    "# If getting saved model and rebuilding the model from saved weights\n",
    "# Check final layer's weights: model_transfer.fc.weight.data\n",
    "# define ResNet18 model\n",
    "model_transfer = models.resnet18(pretrained=True)\n",
    "\n",
    "for param in model_transfer.parameters():\n",
    "    param.required_grad = False\n",
    "    \n",
    "num_features = model_transfer.fc.in_features\n",
    "\n",
    "model_transfer.fc = nn.Linear(num_features, 133)\n",
    "\n",
    "# check if CUDA is available\n",
    "use_cuda = torch.cuda.is_available()\n",
    "\n",
    "# move model to GPU if CUDA is available\n",
    "if use_cuda:\n",
    "    model_transfer = model_transfer.cuda()"
   ]
  },
  {
   "cell_type": "code",
   "execution_count": 117,
   "metadata": {},
   "outputs": [],
   "source": [
    "# load the model that got the best validation accuracy (uncomment the line below)\n",
    "model_transfer.load_state_dict(torch.load('model_transfer.pt'))"
   ]
  },
  {
   "cell_type": "markdown",
   "metadata": {},
   "source": [
    "### (IMPLEMENTATION) Test the Model\n",
    "\n",
    "Try out your model on the test dataset of dog images. Use the code cell below to calculate and print the test loss and accuracy.  Ensure that your test accuracy is greater than 60%."
   ]
  },
  {
   "cell_type": "code",
   "execution_count": 33,
   "metadata": {},
   "outputs": [],
   "source": [
    "def test(loaders, model, criterion, use_cuda):\n",
    "\n",
    "    # monitor test loss and accuracy\n",
    "    test_loss = 0.\n",
    "    correct = 0.\n",
    "    total = 0.\n",
    "\n",
    "    model.eval()\n",
    "    for batch_idx, (data, target) in enumerate(loaders['test']):\n",
    "        # move to GPU\n",
    "        if use_cuda:\n",
    "            data, target = data.cuda(), target.cuda()\n",
    "        # forward pass: compute predicted outputs by passing inputs to the model\n",
    "        output = model(data)\n",
    "        # calculate the loss\n",
    "        loss = criterion(output, target)\n",
    "        # update average test loss \n",
    "        test_loss = test_loss + ((1 / (batch_idx + 1)) * (loss.data - test_loss))\n",
    "        # convert output probabilities to predicted class\n",
    "        pred = output.data.max(1, keepdim=True)[1]\n",
    "        # compare predictions to true label\n",
    "        correct += np.sum(np.squeeze(pred.eq(target.data.view_as(pred))).cpu().numpy())\n",
    "        total += data.size(0)\n",
    "            \n",
    "    print('Test Loss: {:.6f}\\n'.format(test_loss))\n",
    "\n",
    "    print('\\nTest Accuracy: %2d%% (%2d/%2d)' % (\n",
    "        100. * correct / total, correct, total))\n"
   ]
  },
  {
   "cell_type": "code",
   "execution_count": 34,
   "metadata": {},
   "outputs": [
    {
     "name": "stdout",
     "output_type": "stream",
     "text": [
      "Test Loss: 0.798060\n",
      "\n",
      "\n",
      "Test Accuracy: 81% (684/836)\n"
     ]
    }
   ],
   "source": [
    "test(loaders_transfer, model_transfer, criterion_transfer, use_cuda)"
   ]
  },
  {
   "cell_type": "code",
   "execution_count": null,
   "metadata": {},
   "outputs": [],
   "source": []
  },
  {
   "cell_type": "markdown",
   "metadata": {},
   "source": [
    "### (IMPLEMENTATION) Predict Dog Breed with the Model\n",
    "\n",
    "Write a function that takes an image path as input and returns the dog breed (`Affenpinscher`, `Afghan hound`, etc) that is predicted by your model.  "
   ]
  },
  {
   "cell_type": "code",
   "execution_count": 77,
   "metadata": {
    "scrolled": true
   },
   "outputs": [],
   "source": [
    "### TODO: DONE: Write a function that takes a path to an image as input\n",
    "### and returns the dog breed that is predicted by the model.\n",
    "from PIL import Image \n",
    "\n",
    "\n",
    "def predict_dog_breed(img_path):\n",
    "    \"\"\"Predict breed of the dog from the image\n",
    "        \n",
    "        Args:\n",
    "            img (JPG): image to predict\n",
    "        \n",
    "        Returns:\n",
    "            dog_breed(str): return the dog breed prediction\n",
    "    \"\"\"    \n",
    "    # load the image as a JpegImageFile\n",
    "    img_pil = Image.open(img_path)\n",
    "        \n",
    "    # preprocess - resize, crop, convert to tensor, normalize\n",
    "    preprocess = transforms.Compose([\n",
    "        transforms.Resize(256),\n",
    "        transforms.CenterCrop(224),\n",
    "        transforms.ToTensor(),\n",
    "        transforms.Normalize(mean=[0.485, 0.456, 0.406], std=[0.229, 0.224, 0.225])\n",
    "    ])\n",
    "    \n",
    "    # preprocess - convert jpeg to tensor and other transformations\n",
    "    img_tensor = preprocess(img_pil)\n",
    "    \n",
    "    # on axis 0 (rows), axis 1 (columns)\n",
    "    # before unsqueeze: torch.Size([3, 224, 224])\n",
    "    # after unsqueeze(0): torch.Size([1, 3, 224, 224]) \n",
    "    # after unsqueeze(1): torch.Size([3, 1, 224, 224])\n",
    "    input_batch = img_tensor.unsqueeze_(0)\n",
    "    \n",
    "    if torch.cuda.is_available():\n",
    "        input_batch = input_batch.to('cuda')\n",
    "        \n",
    "    fc_out = model_transfer(input_batch)\n",
    "    \n",
    "    # get the highest output probability\n",
    "    pred_idx = fc_out.data.argmax().item()\n",
    "    \n",
    "    return pred_idx\n"
   ]
  },
  {
   "cell_type": "code",
   "execution_count": 25,
   "metadata": {},
   "outputs": [
    {
     "name": "stdout",
     "output_type": "stream",
     "text": [
      "test img path:  /data/dog_images/train/103.Mastiff/Mastiff_06833.jpg\n"
     ]
    }
   ],
   "source": [
    "test_img_path = dog_files[0]\n",
    "print('test img path: ', test_img_path)"
   ]
  },
  {
   "cell_type": "code",
   "execution_count": 26,
   "metadata": {},
   "outputs": [
    {
     "name": "stdout",
     "output_type": "stream",
     "text": [
      "predicted index:  tensor(40, device='cuda:0')\n"
     ]
    }
   ],
   "source": [
    "\n",
    "pred_idx = predict_dog_breed(test_img_path)\n",
    "print('predicted index: ', pred_idx)\n"
   ]
  },
  {
   "cell_type": "code",
   "execution_count": 76,
   "metadata": {},
   "outputs": [],
   "source": [
    "data_dir = '/data/dog_images'\n",
    "\n",
    "train_dir = data_dir + '/train'\n",
    "valid_dir = data_dir + '/valid'\n",
    "test_dir = data_dir + '/test'\n",
    "    \n",
    "data_transforms = {\n",
    "    'train': transforms.Compose([\n",
    "        transforms.Resize(256),\n",
    "        transforms.CenterCrop(224),\n",
    "        transforms.ToTensor(),\n",
    "        transforms.Normalize(mean=[0.485, 0.456, 0.406], std=[0.229, 0.224, 0.225])\n",
    "    ]),\n",
    "    'valid': transforms.Compose([\n",
    "        transforms.Resize(256),\n",
    "        transforms.CenterCrop(224),\n",
    "        transforms.ToTensor(),\n",
    "        transforms.Normalize(mean=[0.485, 0.456, 0.406], std=[0.229, 0.224, 0.225])\n",
    "    ]),\n",
    "    'test': transforms.Compose([\n",
    "        transforms.Resize(256),\n",
    "        transforms.CenterCrop(224),\n",
    "        transforms.ToTensor(),\n",
    "        transforms.Normalize(mean=[0.485, 0.456, 0.406], std=[0.229, 0.224, 0.225])\n",
    "    ])\n",
    "}\n",
    "    \n",
    "dirs = {\n",
    "    'train': train_dir,\n",
    "    'valid': valid_dir,\n",
    "    'test': test_dir\n",
    "}\n",
    "\n",
    "image_datasets = {\n",
    "    x: datasets.ImageFolder(dirs[x], transform=data_transforms[x]) for x in ['train', 'valid', 'test']\n",
    "}"
   ]
  },
  {
   "cell_type": "code",
   "execution_count": 82,
   "metadata": {},
   "outputs": [
    {
     "data": {
      "text/plain": [
       "['Affenpinscher',\n",
       " 'Afghan hound',\n",
       " 'Airedale terrier',\n",
       " 'Akita',\n",
       " 'Alaskan malamute',\n",
       " 'American eskimo dog',\n",
       " 'American foxhound',\n",
       " 'American staffordshire terrier',\n",
       " 'American water spaniel',\n",
       " 'Anatolian shepherd dog',\n",
       " 'Australian cattle dog',\n",
       " 'Australian shepherd',\n",
       " 'Australian terrier',\n",
       " 'Basenji',\n",
       " 'Basset hound',\n",
       " 'Beagle',\n",
       " 'Bearded collie',\n",
       " 'Beauceron',\n",
       " 'Bedlington terrier',\n",
       " 'Belgian malinois',\n",
       " 'Belgian sheepdog',\n",
       " 'Belgian tervuren',\n",
       " 'Bernese mountain dog',\n",
       " 'Bichon frise',\n",
       " 'Black and tan coonhound',\n",
       " 'Black russian terrier',\n",
       " 'Bloodhound',\n",
       " 'Bluetick coonhound',\n",
       " 'Border collie',\n",
       " 'Border terrier',\n",
       " 'Borzoi',\n",
       " 'Boston terrier',\n",
       " 'Bouvier des flandres',\n",
       " 'Boxer',\n",
       " 'Boykin spaniel',\n",
       " 'Briard',\n",
       " 'Brittany',\n",
       " 'Brussels griffon',\n",
       " 'Bull terrier',\n",
       " 'Bulldog',\n",
       " 'Bullmastiff',\n",
       " 'Cairn terrier',\n",
       " 'Canaan dog',\n",
       " 'Cane corso',\n",
       " 'Cardigan welsh corgi',\n",
       " 'Cavalier king charles spaniel',\n",
       " 'Chesapeake bay retriever',\n",
       " 'Chihuahua',\n",
       " 'Chinese crested',\n",
       " 'Chinese shar-pei',\n",
       " 'Chow chow',\n",
       " 'Clumber spaniel',\n",
       " 'Cocker spaniel',\n",
       " 'Collie',\n",
       " 'Curly-coated retriever',\n",
       " 'Dachshund',\n",
       " 'Dalmatian',\n",
       " 'Dandie dinmont terrier',\n",
       " 'Doberman pinscher',\n",
       " 'Dogue de bordeaux',\n",
       " 'English cocker spaniel',\n",
       " 'English setter',\n",
       " 'English springer spaniel',\n",
       " 'English toy spaniel',\n",
       " 'Entlebucher mountain dog',\n",
       " 'Field spaniel',\n",
       " 'Finnish spitz',\n",
       " 'Flat-coated retriever',\n",
       " 'French bulldog',\n",
       " 'German pinscher',\n",
       " 'German shepherd dog',\n",
       " 'German shorthaired pointer',\n",
       " 'German wirehaired pointer',\n",
       " 'Giant schnauzer',\n",
       " 'Glen of imaal terrier',\n",
       " 'Golden retriever',\n",
       " 'Gordon setter',\n",
       " 'Great dane',\n",
       " 'Great pyrenees',\n",
       " 'Greater swiss mountain dog',\n",
       " 'Greyhound',\n",
       " 'Havanese',\n",
       " 'Ibizan hound',\n",
       " 'Icelandic sheepdog',\n",
       " 'Irish red and white setter',\n",
       " 'Irish setter',\n",
       " 'Irish terrier',\n",
       " 'Irish water spaniel',\n",
       " 'Irish wolfhound',\n",
       " 'Italian greyhound',\n",
       " 'Japanese chin',\n",
       " 'Keeshond',\n",
       " 'Kerry blue terrier',\n",
       " 'Komondor',\n",
       " 'Kuvasz',\n",
       " 'Labrador retriever',\n",
       " 'Lakeland terrier',\n",
       " 'Leonberger',\n",
       " 'Lhasa apso',\n",
       " 'Lowchen',\n",
       " 'Maltese',\n",
       " 'Manchester terrier',\n",
       " 'Mastiff',\n",
       " 'Miniature schnauzer',\n",
       " 'Neapolitan mastiff',\n",
       " 'Newfoundland',\n",
       " 'Norfolk terrier',\n",
       " 'Norwegian buhund',\n",
       " 'Norwegian elkhound',\n",
       " 'Norwegian lundehund',\n",
       " 'Norwich terrier',\n",
       " 'Nova scotia duck tolling retriever',\n",
       " 'Old english sheepdog',\n",
       " 'Otterhound',\n",
       " 'Papillon',\n",
       " 'Parson russell terrier',\n",
       " 'Pekingese',\n",
       " 'Pembroke welsh corgi',\n",
       " 'Petit basset griffon vendeen',\n",
       " 'Pharaoh hound',\n",
       " 'Plott',\n",
       " 'Pointer',\n",
       " 'Pomeranian',\n",
       " 'Poodle',\n",
       " 'Portuguese water dog',\n",
       " 'Saint bernard',\n",
       " 'Silky terrier',\n",
       " 'Smooth fox terrier',\n",
       " 'Tibetan mastiff',\n",
       " 'Welsh springer spaniel',\n",
       " 'Wirehaired pointing griffon',\n",
       " 'Xoloitzcuintli',\n",
       " 'Yorkshire terrier']"
      ]
     },
     "execution_count": 82,
     "metadata": {},
     "output_type": "execute_result"
    }
   ],
   "source": [
    "# list of class names by index, i.e. a name can be accessed like class_names[0]\n",
    "class_names = [item[4:].replace(\"_\", \" \") for item in image_datasets['train'].classes]\n",
    "class_names"
   ]
  },
  {
   "cell_type": "code",
   "execution_count": 35,
   "metadata": {},
   "outputs": [
    {
     "data": {
      "text/plain": [
       "{0: 'Affenpinscher',\n",
       " 1: 'Afghan hound',\n",
       " 2: 'Airedale terrier',\n",
       " 3: 'Akita',\n",
       " 4: 'Alaskan malamute',\n",
       " 5: 'American eskimo dog',\n",
       " 6: 'American foxhound',\n",
       " 7: 'American staffordshire terrier',\n",
       " 8: 'American water spaniel',\n",
       " 9: 'Anatolian shepherd dog',\n",
       " 10: 'Australian cattle dog',\n",
       " 11: 'Australian shepherd',\n",
       " 12: 'Australian terrier',\n",
       " 13: 'Basenji',\n",
       " 14: 'Basset hound',\n",
       " 15: 'Beagle',\n",
       " 16: 'Bearded collie',\n",
       " 17: 'Beauceron',\n",
       " 18: 'Bedlington terrier',\n",
       " 19: 'Belgian malinois',\n",
       " 20: 'Belgian sheepdog',\n",
       " 21: 'Belgian tervuren',\n",
       " 22: 'Bernese mountain dog',\n",
       " 23: 'Bichon frise',\n",
       " 24: 'Black and tan coonhound',\n",
       " 25: 'Black russian terrier',\n",
       " 26: 'Bloodhound',\n",
       " 27: 'Bluetick coonhound',\n",
       " 28: 'Border collie',\n",
       " 29: 'Border terrier',\n",
       " 30: 'Borzoi',\n",
       " 31: 'Boston terrier',\n",
       " 32: 'Bouvier des flandres',\n",
       " 33: 'Boxer',\n",
       " 34: 'Boykin spaniel',\n",
       " 35: 'Briard',\n",
       " 36: 'Brittany',\n",
       " 37: 'Brussels griffon',\n",
       " 38: 'Bull terrier',\n",
       " 39: 'Bulldog',\n",
       " 40: 'Bullmastiff',\n",
       " 41: 'Cairn terrier',\n",
       " 42: 'Canaan dog',\n",
       " 43: 'Cane corso',\n",
       " 44: 'Cardigan welsh corgi',\n",
       " 45: 'Cavalier king charles spaniel',\n",
       " 46: 'Chesapeake bay retriever',\n",
       " 47: 'Chihuahua',\n",
       " 48: 'Chinese crested',\n",
       " 49: 'Chinese shar-pei',\n",
       " 50: 'Chow chow',\n",
       " 51: 'Clumber spaniel',\n",
       " 52: 'Cocker spaniel',\n",
       " 53: 'Collie',\n",
       " 54: 'Curly-coated retriever',\n",
       " 55: 'Dachshund',\n",
       " 56: 'Dalmatian',\n",
       " 57: 'Dandie dinmont terrier',\n",
       " 58: 'Doberman pinscher',\n",
       " 59: 'Dogue de bordeaux',\n",
       " 60: 'English cocker spaniel',\n",
       " 61: 'English setter',\n",
       " 62: 'English springer spaniel',\n",
       " 63: 'English toy spaniel',\n",
       " 64: 'Entlebucher mountain dog',\n",
       " 65: 'Field spaniel',\n",
       " 66: 'Finnish spitz',\n",
       " 67: 'Flat-coated retriever',\n",
       " 68: 'French bulldog',\n",
       " 69: 'German pinscher',\n",
       " 70: 'German shepherd dog',\n",
       " 71: 'German shorthaired pointer',\n",
       " 72: 'German wirehaired pointer',\n",
       " 73: 'Giant schnauzer',\n",
       " 74: 'Glen of imaal terrier',\n",
       " 75: 'Golden retriever',\n",
       " 76: 'Gordon setter',\n",
       " 77: 'Great dane',\n",
       " 78: 'Great pyrenees',\n",
       " 79: 'Greater swiss mountain dog',\n",
       " 80: 'Greyhound',\n",
       " 81: 'Havanese',\n",
       " 82: 'Ibizan hound',\n",
       " 83: 'Icelandic sheepdog',\n",
       " 84: 'Irish red and white setter',\n",
       " 85: 'Irish setter',\n",
       " 86: 'Irish terrier',\n",
       " 87: 'Irish water spaniel',\n",
       " 88: 'Irish wolfhound',\n",
       " 89: 'Italian greyhound',\n",
       " 90: 'Japanese chin',\n",
       " 91: 'Keeshond',\n",
       " 92: 'Kerry blue terrier',\n",
       " 93: 'Komondor',\n",
       " 94: 'Kuvasz',\n",
       " 95: 'Labrador retriever',\n",
       " 96: 'Lakeland terrier',\n",
       " 97: 'Leonberger',\n",
       " 98: 'Lhasa apso',\n",
       " 99: 'Lowchen',\n",
       " 100: 'Maltese',\n",
       " 101: 'Manchester terrier',\n",
       " 102: 'Mastiff',\n",
       " 103: 'Miniature schnauzer',\n",
       " 104: 'Neapolitan mastiff',\n",
       " 105: 'Newfoundland',\n",
       " 106: 'Norfolk terrier',\n",
       " 107: 'Norwegian buhund',\n",
       " 108: 'Norwegian elkhound',\n",
       " 109: 'Norwegian lundehund',\n",
       " 110: 'Norwich terrier',\n",
       " 111: 'Nova scotia duck tolling retriever',\n",
       " 112: 'Old english sheepdog',\n",
       " 113: 'Otterhound',\n",
       " 114: 'Papillon',\n",
       " 115: 'Parson russell terrier',\n",
       " 116: 'Pekingese',\n",
       " 117: 'Pembroke welsh corgi',\n",
       " 118: 'Petit basset griffon vendeen',\n",
       " 119: 'Pharaoh hound',\n",
       " 120: 'Plott',\n",
       " 121: 'Pointer',\n",
       " 122: 'Pomeranian',\n",
       " 123: 'Poodle',\n",
       " 124: 'Portuguese water dog',\n",
       " 125: 'Saint bernard',\n",
       " 126: 'Silky terrier',\n",
       " 127: 'Smooth fox terrier',\n",
       " 128: 'Tibetan mastiff',\n",
       " 129: 'Welsh springer spaniel',\n",
       " 130: 'Wirehaired pointing griffon',\n",
       " 131: 'Xoloitzcuintli',\n",
       " 132: 'Yorkshire terrier'}"
      ]
     },
     "execution_count": 35,
     "metadata": {},
     "output_type": "execute_result"
    }
   ],
   "source": [
    "{idx: breed for idx, breed in enumerate(class_names)}\n"
   ]
  },
  {
   "cell_type": "markdown",
   "metadata": {},
   "source": [
    "---\n",
    "<a id='step5'></a>\n",
    "## Step 5: Write your Algorithm\n",
    "\n",
    "Write an algorithm that accepts a file path to an image and first determines whether the image contains a human, dog, or neither.  Then,\n",
    "- if a __dog__ is detected in the image, return the predicted breed.\n",
    "- if a __human__ is detected in the image, return the resembling dog breed.\n",
    "- if __neither__ is detected in the image, provide output that indicates an error.\n",
    "\n",
    "You are welcome to write your own functions for detecting humans and dogs in images, but feel free to use the `face_detector` and `human_detector` functions developed above.  You are __required__ to use your CNN from Step 4 to predict dog breed.  \n",
    "\n",
    "Some sample output for our algorithm is provided below, but feel free to design your own user experience!\n",
    "\n",
    "![Sample Human Output](images/sample_human_output.png)\n",
    "\n",
    "\n",
    "### (IMPLEMENTATION) Write your Algorithm"
   ]
  },
  {
   "cell_type": "code",
   "execution_count": 43,
   "metadata": {},
   "outputs": [],
   "source": [
    "import torch\n",
    "import torchvision.models as models\n",
    "from PIL import Image\n",
    "from torchvision import transforms\n",
    "\n",
    "def detect_dog(img_path):\n",
    "    \"\"\"Detect if image contains a dog\n",
    "    Args:\n",
    "        img_path(str): path to image\n",
    "    Returns:\n",
    "        is_dog(bool): Returns is_dog. True if dog, False if not dog.\n",
    "    \"\"\"\n",
    "\n",
    "    # move model to GPU if CUDA is available\n",
    "    use_cuda = torch.cuda.is_available()\n",
    "\n",
    "    # load the image as a JpegImageFile\n",
    "    img_pil = Image.open(img_path)\n",
    "        \n",
    "    # preprocess - resize, crop, convert to tensor, normalize\n",
    "    preprocess = transforms.Compose([\n",
    "        transforms.Resize(256),\n",
    "        transforms.CenterCrop(224),\n",
    "        transforms.ToTensor(),\n",
    "        transforms.Normalize(mean=[0.485, 0.456, 0.406], std=[0.229, 0.224, 0.225])\n",
    "    ])\n",
    "    \n",
    "    # preprocess - convert jpeg to tensor and other transformations\n",
    "    img_tensor = preprocess(img_pil)\n",
    "\n",
    "    input_batch = img_tensor.unsqueeze_(0)\n",
    "    \n",
    "    # define vgg16 model\n",
    "    VGG16 = models.vgg16(pretrained=True)\n",
    "\n",
    "    if use_cuda:\n",
    "        input_batch = input_batch.to('cuda')\n",
    "        VGG16 = VGG16.cuda()\n",
    "\n",
    "    output = VGG16(input_batch)\n",
    "    \n",
    "    pred_idx = None\n",
    "    # get the highest output probability\n",
    "    if use_cuda:\n",
    "        pred_idx = output.data.argmax().item()\n",
    "    else:\n",
    "        pred_idx = output.data.numpy().argmax()\n",
    "\n",
    "    return 151 <= pred_idx <= 268\n"
   ]
  },
  {
   "cell_type": "code",
   "execution_count": 44,
   "metadata": {},
   "outputs": [],
   "source": [
    "import cv2 # OpenCV  \n",
    "\n",
    "def detect_human(img_path):\n",
    "    \"\"\"Detect if image contains a human\n",
    "    Args:\n",
    "        processed_img(JPEG): image to predict\n",
    "    Returns:\n",
    "        is_human(bool): Returns is_human. True if human, False if not human\n",
    "    \"\"\"\n",
    "\n",
    "    # pre-trained face detector\n",
    "    face_cascade = cv2.CascadeClassifier('haarcascades/haarcascade_frontalface_alt.xml')  \n",
    "    img = cv2.imread(img_path)\n",
    "    gray = cv2.cvtColor(img, cv2.COLOR_BGR2GRAY)\n",
    "    faces = face_cascade.detectMultiScale(gray)\n",
    "\n",
    "    return len(faces) > 0\n"
   ]
  },
  {
   "cell_type": "code",
   "execution_count": 109,
   "metadata": {},
   "outputs": [],
   "source": [
    "### TODO: DONE: Write your algorithm.\n",
    "### Feel free to use as many code cells as needed.\n",
    "\n",
    "def run_app(img_path):\n",
    "    ## handle cases for a human face, dog, and neither\n",
    "    \"\"\"Application: Preprocess, Predict\n",
    "    Args:\n",
    "        Img_path (str): path to image\n",
    "\n",
    "    Returns:\n",
    "        None: Outputs result of predictions \n",
    "    \"\"\"\n",
    "\n",
    "    is_dog = detect_dog(img_path)\n",
    "\n",
    "    if is_dog:\n",
    "        print('dog detected')\n",
    "        dog_breed = predict_dog_breed(img_path)\n",
    "        class_names = [item[4:].replace(\"_\", \" \") for item in image_datasets['train'].classes]\n",
    "        idx_to_class = {idx: breed for idx, breed in enumerate(class_names)}\n",
    "        print('dog breed: ', idx_to_class[dog_breed])\n",
    "    else: \n",
    "        is_human = detect_human(img_path)\n",
    "        \n",
    "        if is_human:\n",
    "            print('human detected')\n",
    "            dog_breed_resemblance = predict_dog_breed(img_path)\n",
    "            class_names = [item[4:].replace(\"_\", \" \") for item in image_datasets['train'].classes]\n",
    "            idx_to_class = {idx: breed for idx, breed in enumerate(class_names)}\n",
    "            print('dog breed resembled: ', idx_to_class[dog_breed_resemblance])\n",
    "        else:\n",
    "            print('not a dog or human')\n"
   ]
  },
  {
   "cell_type": "code",
   "execution_count": 112,
   "metadata": {},
   "outputs": [
    {
     "data": {
      "text/plain": [
       "'/data/dog_images/train/103.Mastiff/Mastiff_06833.jpg'"
      ]
     },
     "execution_count": 112,
     "metadata": {},
     "output_type": "execute_result"
    }
   ],
   "source": [
    "user_img_path = dog_files[0]\n",
    "# user_img_path = human_files[0]\n",
    "user_img_path"
   ]
  },
  {
   "cell_type": "code",
   "execution_count": 113,
   "metadata": {},
   "outputs": [
    {
     "name": "stdout",
     "output_type": "stream",
     "text": [
      "dog detected\n",
      "dog breed:  Bullmastiff\n"
     ]
    }
   ],
   "source": [
    "run_app(user_img_path)"
   ]
  },
  {
   "cell_type": "markdown",
   "metadata": {},
   "source": [
    "---\n",
    "<a id='step6'></a>\n",
    "## Step 6: Test Your Algorithm\n",
    "\n",
    "In this section, you will take your new algorithm for a spin!  What kind of dog does the algorithm think that _you_ look like?  If you have a dog, does it predict your dog's breed accurately?  If you have a cat, does it mistakenly think that your cat is a dog?\n",
    "\n",
    "### (IMPLEMENTATION) Test Your Algorithm on Sample Images!\n",
    "\n",
    "Test your algorithm at least six images on your computer.  Feel free to use any images you like.  Use at least two human and two dog images.  \n",
    "\n",
    "__Question 6:__ Is the output better than you expected :) ?  Or worse :( ?  Provide at least three possible points of improvement for your algorithm."
   ]
  },
  {
   "cell_type": "markdown",
   "metadata": {},
   "source": [
    "__Answer:__ (Three possible points for improvement)"
   ]
  },
  {
   "cell_type": "code",
   "execution_count": null,
   "metadata": {},
   "outputs": [],
   "source": [
    "## TODO: Execute your algorithm from Step 6 on\n",
    "## at least 6 images on your computer.\n",
    "## Feel free to use as many code cells as needed.\n",
    "\n",
    "## suggested code, below\n",
    "for file in np.hstack((human_files[:3], dog_files[:3])):\n",
    "    run_app(file)"
   ]
  }
 ],
 "metadata": {
  "anaconda-cloud": {},
  "kernelspec": {
   "display_name": "Python 3",
   "language": "python",
   "name": "python3"
  },
  "language_info": {
   "codemirror_mode": {
    "name": "ipython",
    "version": 3
   },
   "file_extension": ".py",
   "mimetype": "text/x-python",
   "name": "python",
   "nbconvert_exporter": "python",
   "pygments_lexer": "ipython3",
   "version": "3.6.5"
  }
 },
 "nbformat": 4,
 "nbformat_minor": 1
}
